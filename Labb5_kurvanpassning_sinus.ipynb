{
 "cells": [
  {
   "attachments": {},
   "cell_type": "markdown",
   "metadata": {},
   "source": [
    "# Kurvanpassning av brusig data"
   ]
  },
  {
   "cell_type": "code",
   "execution_count": null,
   "metadata": {},
   "outputs": [],
   "source": [
    "from matplotlib import pyplot as plt\n",
    "%matplotlib inline\n",
    "plt.rcParams['figure.figsize'] = [12, 9]\n",
    "import scipy.optimize as opt\n",
    "import numpy as np\n",
    "from IPython.display import display, Math, Markdown"
   ]
  },
  {
   "cell_type": "code",
   "execution_count": null,
   "metadata": {},
   "outputs": [],
   "source": [
    "def sinusfkt(t, A, B, C):\n",
    "    return A * np.sin(2*np.pi * B * t + C * np.pi/180)"
   ]
  },
  {
   "cell_type": "code",
   "execution_count": null,
   "metadata": {},
   "outputs": [],
   "source": [
    "x = np.arange(-2, 2, 0.01)\n",
    "\n",
    "origParams = [5, 0.5, 30]\n",
    "\n",
    "y_sann = sinusfkt(x, *origParams)"
   ]
  },
  {
   "cell_type": "code",
   "execution_count": null,
   "metadata": {},
   "outputs": [],
   "source": [
    "fig, ax = plt.subplots()\n",
    "ax.plot(x, y_sann, \"k-\", label = \"original\", linewidth=2)"
   ]
  },
  {
   "cell_type": "code",
   "execution_count": null,
   "metadata": {},
   "outputs": [],
   "source": [
    "brus = 0.5 * np.random.normal(size=x.size)\n",
    "y_brus = y_sann + brus\n",
    "\n",
    "fig, ax = plt.subplots()\n",
    "ax.plot(x, y_brus, \"b.\", label = \"med brus\", markersize = 1)\n",
    "ax.plot(x, y_sann, \"k-\", label = \"original\", linewidth=2)"
   ]
  },
  {
   "cell_type": "code",
   "execution_count": null,
   "metadata": {},
   "outputs": [],
   "source": [
    "guessParams = [0, 0, 0]\n",
    "\n",
    "fig, ax = plt.subplots()\n",
    "ax.plot(x, y_brus, \"b.\", label = \"med brus\", markersize = 1)\n",
    "ax.plot(x, y_sann, \"k-\", label = \"original\", linewidth=2)\n",
    "ax.plot(x, sinusfkt(x, *guessParams), \"m-\", label = \"gissning\", linewidth=2)\n",
    "ax.legend()\n"
   ]
  },
  {
   "cell_type": "code",
   "execution_count": null,
   "metadata": {},
   "outputs": [],
   "source": [
    "optimParams, pcov = opt.curve_fit(f=sinusfkt, xdata=x, ydata=y_brus, p0=guessParams, method=\"trf\", verbose=2)"
   ]
  },
  {
   "cell_type": "code",
   "execution_count": null,
   "metadata": {},
   "outputs": [],
   "source": [
    "print(\"anpassad: A={:8g}, B={:8g}, C={:8g}\".format(*optimParams))\n",
    "print(\"original: A={:8g}, B={:8g}, C={:8g}\".format(*origParams))\n",
    "\n",
    "display(Markdown(r\"$f(t) = {:8g} \\sin\\left( 2\\pi\\cdot{:+8g} t {:+8g}^o \\right)$\".format(*optimParams)))\n",
    "display(Markdown(r\"$f(t) = {:8g} \\sin\\left( 2\\pi\\cdot{:+8g} t {:+8g}^o \\right)$\".format(*origParams)))"
   ]
  },
  {
   "cell_type": "code",
   "execution_count": null,
   "metadata": {},
   "outputs": [],
   "source": [
    "fig, ax = plt.subplots()\n",
    "ax.plot(x, y_brus, \"b.\", label = \"med brus\", markersize = 1)\n",
    "ax.plot(x, y_sann, \"k-\", label = \"original\", linewidth=2)\n",
    "ax.plot(x, sinusfkt(x, *guessParams), \"m-\", label = \"gissning\", linewidth=2)\n",
    "ax.plot(x, sinusfkt(x, *optimParams), \"r-\", label = \"anpassad\", linewidth=2)\n",
    "ax.legend()"
   ]
  }
 ],
 "metadata": {
  "kernelspec": {
   "display_name": "Python 3",
   "language": "python",
   "name": "python3"
  },
  "language_info": {
   "codemirror_mode": {
    "name": "ipython",
    "version": 3
   },
   "file_extension": ".py",
   "mimetype": "text/x-python",
   "name": "python",
   "nbconvert_exporter": "python",
   "pygments_lexer": "ipython3",
   "version": "3.9.8"
  },
  "orig_nbformat": 4,
  "vscode": {
   "interpreter": {
    "hash": "c85a162d7e6feb9ce7a63b9e0bf7bb0701e25096002d986edf763ed39e4d2885"
   }
  }
 },
 "nbformat": 4,
 "nbformat_minor": 2
}
