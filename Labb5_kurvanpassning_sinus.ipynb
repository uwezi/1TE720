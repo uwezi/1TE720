{
 "cells": [
  {
   "attachments": {},
   "cell_type": "markdown",
   "metadata": {},
   "source": [
    "# Kurvanpassning av brusig data\n",
    "Kurvanpassningen enligt minsta-kvadratmetoden kan användas för godtyckliga modellfunktioner."
   ]
  },
  {
   "cell_type": "code",
   "execution_count": null,
   "metadata": {},
   "outputs": [],
   "source": [
    "from matplotlib import pyplot as plt\n",
    "%matplotlib inline\n",
    "plt.rcParams['figure.figsize'] = [12, 9]\n",
    "import scipy.optimize as opt\n",
    "import numpy as np\n",
    "from IPython.display import display, Math, Markdown"
   ]
  },
  {
   "attachments": {},
   "cell_type": "markdown",
   "metadata": {},
   "source": [
    "Denna gång utgår vi från en sinuskurva enligt modellfunktionen\n",
    "\n",
    "$\\displaystyle f(t) = A\\cdot\\sin\\left(2\\pi\\cdot B\\cdot t + C \\frac{\\pi}{180^o}\\right)$"
   ]
  },
  {
   "cell_type": "code",
   "execution_count": null,
   "metadata": {},
   "outputs": [],
   "source": [
    "def sinusfkt(t, A, B, C):\n",
    "    return A * np.sin(2*np.pi * B * t + C * np.pi/180)"
   ]
  },
  {
   "attachments": {},
   "cell_type": "markdown",
   "metadata": {},
   "source": [
    "Vi skapar en lista `x` av t-värden och en lista `y_sann` av _sanna_ y-värden för funktionen\n",
    "\n",
    "$\\displaystyle f(t) = 5\\cdot\\sin\\left(2\\pi\\cdot 0.5\\cdot t + 30^o \\frac{\\pi}{180^o}\\right)$"
   ]
  },
  {
   "cell_type": "code",
   "execution_count": null,
   "metadata": {},
   "outputs": [],
   "source": [
    "x = np.arange(-2, 2, 0.01)\n",
    "\n",
    "origParams = [5, 0.5, 30]\n",
    "\n",
    "y_sann = sinusfkt(x, *origParams)"
   ]
  },
  {
   "attachments": {},
   "cell_type": "markdown",
   "metadata": {},
   "source": [
    "En snabb ritning av den sanna kurvan ser ut så här"
   ]
  },
  {
   "cell_type": "code",
   "execution_count": null,
   "metadata": {},
   "outputs": [],
   "source": [
    "fig, ax = plt.subplots()\n",
    "ax.plot(x, y_sann, \"k-\", label = \"original\", linewidth=2)"
   ]
  },
  {
   "attachments": {},
   "cell_type": "markdown",
   "metadata": {},
   "source": [
    "Nu skapar vi en lista med normalfördelade slumptal (med $\\overline{y} = 0$ och $\\sigma=0.5$) som vi sedan lägger på den sanna kurvan för att skapa en brusig signal `y_brus`."
   ]
  },
  {
   "cell_type": "code",
   "execution_count": null,
   "metadata": {},
   "outputs": [],
   "source": [
    "brus = np.random.normal(loc=0, scale=0.5, size=x.size)\n",
    "y_brus = y_sann + brus\n",
    "\n",
    "fig, ax = plt.subplots()\n",
    "ax.plot(x, y_brus, \"b.\", label = \"med brus\", markersize = 4)\n",
    "ax.plot(x, y_sann, \"k-\", label = \"original\", linewidth = 1)"
   ]
  },
  {
   "attachments": {},
   "cell_type": "markdown",
   "metadata": {},
   "source": [
    "Inför kurvanpassningen så definierar vi en lista med startvärden för `A`, `B` och `C`"
   ]
  },
  {
   "cell_type": "code",
   "execution_count": null,
   "metadata": {},
   "outputs": [],
   "source": [
    "guessParams = [1, 1, 1] # kolla även [1, 0.2, 0]"
   ]
  },
  {
   "attachments": {},
   "cell_type": "markdown",
   "metadata": {},
   "source": [
    "Och så gör vi en plot som visar den kurva som vi skulle få med våra startvärden, samt både den sanna och den brusiga kurvan."
   ]
  },
  {
   "cell_type": "code",
   "execution_count": null,
   "metadata": {},
   "outputs": [],
   "source": [
    "fig, ax = plt.subplots()\n",
    "ax.plot(x, y_brus, \"b.\", label = \"med brus\", markersize = 4)\n",
    "ax.plot(x, y_sann, \"k-\", label = \"original\", linewidth = 1)\n",
    "ax.plot(x, sinusfkt(x, *guessParams), \"m-\", label = \"gissning\", linewidth=2)\n",
    "ax.legend()"
   ]
  },
  {
   "attachments": {},
   "cell_type": "markdown",
   "metadata": {},
   "source": [
    "Kurvanpassningen sker som tidigare med `opt.curve_fit()`. "
   ]
  },
  {
   "cell_type": "code",
   "execution_count": null,
   "metadata": {},
   "outputs": [],
   "source": [
    "optimParams, pcov = opt.curve_fit(f=sinusfkt, xdata=x, ydata=y_brus, p0=guessParams, method=\"trf\", verbose=2)"
   ]
  },
  {
   "attachments": {},
   "cell_type": "markdown",
   "metadata": {},
   "source": [
    "Sista raden i utskriften från `opt.curve_fit()` ger oss information om anpassningen lyckades eller inte. Om inte så kan vi gå tillbaka och testa andra startvärden. Väljer vi rimliga startvärden är det mera sannolikt att vi även lyckas med kurvanpassningen."
   ]
  },
  {
   "cell_type": "code",
   "execution_count": null,
   "metadata": {},
   "outputs": [],
   "source": [
    "print(\"anpassad: A={:8g}, B={:8g}, C={:8g}\".format(*optimParams))\n",
    "print(\"original: A={:8g}, B={:8g}, C={:8g}\".format(*origParams))\n",
    "\n",
    "display(Markdown(r\"$f(t) = {:8g} \\sin\\left( 2\\pi\\cdot{:+8g} t {:+8g}^o \\right)$\".format(*optimParams)))\n",
    "display(Markdown(r\"$f(t) = {:8g} \\sin\\left( 2\\pi\\cdot{:+8g} t {:+8g}^o \\right)$\".format(*origParams)))"
   ]
  },
  {
   "attachments": {},
   "cell_type": "markdown",
   "metadata": {},
   "source": [
    "Men utan att faktiskt rita upp kurvorna så är det nog inte möjligt att bedöma om python verkligen lyckades med en bra kurvanpassning."
   ]
  },
  {
   "cell_type": "code",
   "execution_count": null,
   "metadata": {},
   "outputs": [],
   "source": [
    "fig, ax = plt.subplots()\n",
    "ax.plot(x, y_brus, \"b.\", label = \"med brus\", markersize = 1)\n",
    "ax.plot(x, y_sann, \"k-\", label = \"original\", linewidth=2)\n",
    "ax.plot(x, sinusfkt(x, *guessParams), \"m-\", label = \"gissning\", linewidth=2)\n",
    "ax.plot(x, sinusfkt(x, *optimParams), \"r-\", label = \"anpassad\", linewidth=2)\n",
    "ax.text( 0.95, 0.75, \n",
    "        r\"$f(t)={:.2f}\\cdot\\sin\\left(2\\pi\\cdot{:.2f}t + {:.2f}^o\\cdot\\pi/180^o\\right)$\"\n",
    "        .format(optimParams[0],optimParams[1],optimParams[2]), \n",
    "        horizontalalignment='right',\n",
    "        size=20,\n",
    "        transform=ax.transAxes )\n",
    "ax.legend()"
   ]
  }
 ],
 "metadata": {
  "kernelspec": {
   "display_name": "Python 3",
   "language": "python",
   "name": "python3"
  },
  "language_info": {
   "codemirror_mode": {
    "name": "ipython",
    "version": 3
   },
   "file_extension": ".py",
   "mimetype": "text/x-python",
   "name": "python",
   "nbconvert_exporter": "python",
   "pygments_lexer": "ipython3",
   "version": "3.9.8"
  },
  "orig_nbformat": 4,
  "vscode": {
   "interpreter": {
    "hash": "c85a162d7e6feb9ce7a63b9e0bf7bb0701e25096002d986edf763ed39e4d2885"
   }
  }
 },
 "nbformat": 4,
 "nbformat_minor": 2
}
