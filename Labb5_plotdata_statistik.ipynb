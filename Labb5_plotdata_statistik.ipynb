{
 "cells": [
  {
   "attachments": {},
   "cell_type": "markdown",
   "metadata": {},
   "source": [
    "# Rita data från en extern fil och lite statistik"
   ]
  },
  {
   "attachments": {},
   "cell_type": "markdown",
   "metadata": {},
   "source": [
    "Först som vanligt - några externa bibliotek:"
   ]
  },
  {
   "cell_type": "code",
   "execution_count": null,
   "metadata": {},
   "outputs": [],
   "source": [
    "from matplotlib import pyplot as plt\n",
    "%matplotlib inline\n",
    "plt.rcParams['figure.figsize'] = [12, 9]\n",
    "import scipy.optimize as opt\n",
    "import numpy as np\n",
    "from IPython.display import display, Math, Markdown"
   ]
  },
  {
   "attachments": {},
   "cell_type": "markdown",
   "metadata": {},
   "source": [
    "Vi ska analysera data som befinner sig i filen \"brusig_data.txt\" i samma katalog som vår skript.<br/>\n",
    "Filen innehåller 600 rader med mätdata i 7 olika kolumner som vi läser in i 7 olika python-listor `x`, samt `y1` till `y6`: "
   ]
  },
  {
   "cell_type": "code",
   "execution_count": null,
   "metadata": {},
   "outputs": [],
   "source": [
    "x, y1, y2, y3, y4, y5, y6 = np.loadtxt(\"brusig_data.txt\", unpack=True)"
   ]
  },
  {
   "attachments": {},
   "cell_type": "markdown",
   "metadata": {},
   "source": [
    "Hur ser datan ut då?<br/>\n",
    "Vi gör en snabb plot:"
   ]
  },
  {
   "cell_type": "code",
   "execution_count": null,
   "metadata": {},
   "outputs": [],
   "source": [
    "colors = [\"#003f5c\", \"#444e86\", \"#955196\", \"#dd5182\", \"#ff6e54\", \"#ffa600\"]\n",
    "fig, ax = plt.subplots()\n",
    "ax.plot(x, y1, label=\"y1\", color=colors[0], linestyle=\"\", marker=\"o\", markersize=5)\n",
    "ax.plot(x, y2, label=\"y2\", color=colors[1], linestyle=\"\", marker=\"o\", markersize=5)\n",
    "ax.plot(x, y3, label=\"y3\", color=colors[2], linestyle=\"\", marker=\"o\", markersize=5)\n",
    "ax.plot(x, y4, label=\"y4\", color=colors[3], linestyle=\"\", marker=\"o\", markersize=5)\n",
    "ax.plot(x, y5, label=\"y5\", color=colors[4], linestyle=\"\", marker=\"o\", markersize=5)\n",
    "ax.plot(x, y6, label=\"y6\", color=colors[5], linestyle=\"\", marker=\"o\", markersize=5)\n",
    "ax.legend()"
   ]
  },
  {
   "cell_type": "code",
   "execution_count": null,
   "metadata": {},
   "outputs": [],
   "source": [
    "fig, ax = plt.subplots()\n",
    "ax.plot(x, y1, color=colors[0], linestyle=\"\", marker=\"o\", markersize=5)"
   ]
  },
  {
   "attachments": {},
   "cell_type": "markdown",
   "metadata": {},
   "source": [
    "ok, det verkar finnas gott om slumpmässiga fel här - låt oss titta på statistiken, dvs medelvärde och standardavvikelse"
   ]
  },
  {
   "cell_type": "code",
   "execution_count": null,
   "metadata": {},
   "outputs": [],
   "source": [
    "y1bar = np.mean(y1) # medelvärde\n",
    "y1std = np.std(y1)  # standardavvikelse\n",
    "\n",
    "display(Markdown(r\"medelvärde: $\\bar{{y_1}}={:.2f}$   standardavvikelse: $\\sigma_1={:.2f}$\".format(y1bar,y1std)))"
   ]
  },
  {
   "attachments": {},
   "cell_type": "markdown",
   "metadata": {},
   "source": [
    "Nu vet vi medelvärdet $\\overline{y}$ och standardavvikelsen $\\sigma$, men vad betyder dessa egentligen? <br/>Var ligger medelvärdet i vårt punktmoln?\n",
    "\n",
    "`ax.axhline(y, xmin, xmax, color=...)` ritar en horisontell linje i en given höjd `y` i vår graf, om vi inte ange `xmin` och `xmax` sträcker sig linjen äver hela bredden. Vi kan självklart lägga till färg, mm:"
   ]
  },
  {
   "cell_type": "code",
   "execution_count": null,
   "metadata": {},
   "outputs": [],
   "source": [
    "fig, ax = plt.subplots()\n",
    "ax.plot(x, y1, color=colors[0], linestyle=\"\", marker=\"o\", markersize=5)\n",
    "ax.axhline(y1bar, color=\"red\")"
   ]
  },
  {
   "attachments": {},
   "cell_type": "markdown",
   "metadata": {},
   "source": [
    "På ett liknande sätt kan vi rita en rectangle i grafen med<br/>\n",
    "`ax.axhspan(ymin, ymax, xmin, xmax, color=..., alpha=...)` med parametern `alpha` $\\le 1$ kan vi ge rectangeln en viss transparens."
   ]
  },
  {
   "cell_type": "code",
   "execution_count": null,
   "metadata": {},
   "outputs": [],
   "source": [
    "fig, ax = plt.subplots()\n",
    "ax.plot(x, y1, color=colors[0], linestyle=\"\", marker=\"o\", markersize=5)\n",
    "ax.axhline(y1bar, color=\"red\")\n",
    "ax.axhspan(y1bar-y1std,y1bar+y1std, color=\"yellow\", alpha=0.4)"
   ]
  },
  {
   "cell_type": "code",
   "execution_count": null,
   "metadata": {},
   "outputs": [],
   "source": [
    "fig, ax = plt.subplots()\n",
    "ax.plot(x, y1, color=colors[0], linestyle=\"\", marker=\"o\", markersize=5)\n",
    "ax.axhline(y1bar, color=\"red\")\n",
    "ax.axhspan(y1bar-1*y1std, y1bar+1*y1std, color=\"yellow\", alpha=0.5)\n",
    "ax.axhspan(y1bar-2*y1std, y1bar+2*y1std, color=\"yellow\", alpha=0.3)"
   ]
  },
  {
   "cell_type": "code",
   "execution_count": null,
   "metadata": {},
   "outputs": [],
   "source": [
    "fig, ax = plt.subplots()\n",
    "ax.plot(x, y1, color=colors[0], linestyle=\"\", marker=\"o\", markersize=5)\n",
    "ax.axhline(y1bar, color=\"red\")\n",
    "ax.axhspan(y1bar-1*y1std, y1bar+1*y1std, color=\"yellow\", alpha=0.7)\n",
    "ax.axhspan(y1bar-2*y1std, y1bar+2*y1std, color=\"yellow\", alpha=0.4)\n",
    "ax.axhspan(y1bar-3*y1std, y1bar+3*y1std, color=\"yellow\", alpha=0.2)"
   ]
  },
  {
   "attachments": {},
   "cell_type": "markdown",
   "metadata": {},
   "source": [
    "Vi ser att det är en punkt av våra 600 mätpunkter som ligger utanför $\\overline{y}\\pm 3\\sigma$ eller $[\\overline{y}-3\\sigma,\\overline{y}+3\\sigma]$.<br/>\n",
    "Är det ett förväntat antal, eller är det för många, för få?"
   ]
  },
  {
   "attachments": {},
   "cell_type": "markdown",
   "metadata": {},
   "source": [
    "Hur ser statistiken ut för de andra kolumner?\n",
    "\n",
    "`y1bar = np.mean(y1) # medelvärde`<br>\n",
    "`y1std = np.std(y1)  # standardavvikelse`"
   ]
  },
  {
   "cell_type": "code",
   "execution_count": null,
   "metadata": {},
   "outputs": [],
   "source": []
  }
 ],
 "metadata": {
  "kernelspec": {
   "display_name": "Python 3",
   "language": "python",
   "name": "python3"
  },
  "language_info": {
   "codemirror_mode": {
    "name": "ipython",
    "version": 3
   },
   "file_extension": ".py",
   "mimetype": "text/x-python",
   "name": "python",
   "nbconvert_exporter": "python",
   "pygments_lexer": "ipython3",
   "version": "3.9.8"
  },
  "orig_nbformat": 4,
  "vscode": {
   "interpreter": {
    "hash": "c85a162d7e6feb9ce7a63b9e0bf7bb0701e25096002d986edf763ed39e4d2885"
   }
  }
 },
 "nbformat": 4,
 "nbformat_minor": 2
}
