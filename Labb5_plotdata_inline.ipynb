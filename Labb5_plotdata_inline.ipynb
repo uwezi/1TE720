{
 "cells": [
  {
   "attachments": {},
   "cell_type": "markdown",
   "metadata": {},
   "source": [
    "# Mätdata som en lista i skriptet"
   ]
  },
  {
   "cell_type": "code",
   "execution_count": null,
   "metadata": {},
   "outputs": [],
   "source": [
    "from matplotlib import pyplot as plt\n",
    "import scipy.optimize as opt\n",
    "import numpy as np\n",
    "import math\n",
    "%matplotlib inline\n",
    "plt.rcParams['figure.figsize'] = [12, 9]"
   ]
  },
  {
   "attachments": {},
   "cell_type": "markdown",
   "metadata": {},
   "source": [
    "Biblioteket `io` innehåller funktionen `StringIO` som vi behöver"
   ]
  },
  {
   "cell_type": "code",
   "execution_count": null,
   "metadata": {},
   "outputs": [],
   "source": [
    "from io import StringIO"
   ]
  },
  {
   "attachments": {},
   "cell_type": "markdown",
   "metadata": {},
   "source": [
    "Det följande blocket innehåller mätdata som kunde komma från en automatisk mätutrustning. Den ena kolumnen innehåller spänningsvärden från en spänningskälla, den andra spänningsvärden från mätningen över ett motstånd i kretsen. \n",
    "\n",
    "`#` fungerar för att markera kommentarer som i Python-kod."
   ]
  },
  {
   "cell_type": "code",
   "execution_count": null,
   "metadata": {},
   "outputs": [],
   "source": [
    "leddatafile = StringIO(\\\n",
    "'''\n",
    "# LED experiment med 330 ohm i serie med LED\n",
    "#\n",
    "# kolumn 1: hela spanningen [V]\n",
    "# kolumn 2: spanningen over motstandet [V]\n",
    " 0.1 4.334e-007\n",
    " 0.2 1.436e-006\n",
    " 0.3 3.755e-006\n",
    " 0.4 9.119e-006\n",
    " 0.5 2.153e-005\n",
    " 0.6 5.022e-005\n",
    " 0.7 0.0001165\n",
    " 0.8 0.0002697\n",
    " 0.9 0.0006224\n",
    " 1.0 0.001430\n",
    " 1.1 0.003259\n",
    " 1.2 0.007288\n",
    " 1.3 0.01570\n",
    " 1.4 0.03177\n",
    " 1.5 0.05865\n",
    " 1.6 0.09774\n",
    " 1.7 0.1481\n",
    " 1.8 0.2078\n",
    " 1.9 0.2744\n",
    " 2.0 0.3466\n",
    " 2.1 0.4230\n",
    " 2.2 0.5024\n",
    " 2.3 0.5844\n",
    " 2.4 0.6684\n",
    " 2.5 0.7540\n",
    " 2.6 0.8410\n",
    " 2.7 0.9291\n",
    " 2.8 1.018\n",
    " 2.9 1.108\n",
    " 3.0 1.199\n",
    " 3.1 1.290\n",
    " 3.2 1.382\n",
    " 3.3 1.474\n",
    " 3.4 1.567\n",
    " 3.5 1.660\n",
    " 3.6 1.753\n",
    " 3.7 1.847\n",
    " 3.8 1.941\n",
    " 3.9 2.035\n",
    " 4.0 2.130\n",
    " 4.1 2.225\n",
    " 4.2 2.320\n",
    " 4.3 2.415\n",
    " 4.4 2.510\n",
    " 4.5 2.606\n",
    " 4.6 2.702\n",
    " 4.7 2.797\n",
    " 4.8 2.893\n",
    " 4.9 2.990\n",
    " 5.0 3.086\n",
    " 5.1 3.182\n",
    " 5.2 3.278\n",
    " 5.3 3.375\n",
    " 5.4 3.472\n",
    " 5.5 3.568\n",
    " 5.6 3.665\n",
    " 5.7 3.762\n",
    " 5.8 3.859\n",
    " 5.9 3.956\n",
    " 6.0 4.053\n",
    " 6.1 4.150\n",
    " 6.2 4.247\n",
    " 6.3 4.345\n",
    " 6.4 4.442\n",
    " 6.5 4.540\n",
    " 6.6 4.637\n",
    " 6.7 4.734\n",
    " 6.8 4.832\n",
    " 6.9 4.930\n",
    " 7.0 5.027\n",
    " 7.1 5.125\n",
    " 7.2 5.223\n",
    " 7.3 5.320\n",
    " 7.4 5.418\n",
    " 7.5 5.516\n",
    " 7.6 5.614\n",
    " 7.7 5.712\n",
    " 7.8 5.810\n",
    " 7.9 5.908\n",
    " 8.0 6.006\n",
    " 8.1 6.104\n",
    " 8.2 6.202\n",
    " 8.3 6.300\n",
    " 8.4 6.398\n",
    " 8.5 6.497\n",
    " 8.6 6.595\n",
    " 8.7 6.693\n",
    " 8.8 6.791\n",
    " 8.9 6.889\n",
    " 9.0 6.988\n",
    " 9.1 7.086\n",
    " 9.2 7.184\n",
    " 9.3 7.283\n",
    " 9.4 7.381\n",
    " 9.5 7.480\n",
    " 9.6 7.578\n",
    " 9.7 7.676\n",
    " 9.8 7.775\n",
    " 9.9 7.873\n",
    " 10.0 7.972\n",
    " 10.1 8.070\n",
    " 10.2 8.169\n",
    " 10.3 8.268\n",
    " 10.4 8.366\n",
    " 10.5 8.465\n",
    " 10.6 8.563\n",
    " 10.7 8.662\n",
    " 10.8 8.761\n",
    " 10.9 8.859\n",
    " 11.0 8.958\n",
    " 11.1 9.057\n",
    " 11.2 9.155\n",
    " 11.3 9.254\n",
    " 11.4 9.353\n",
    " 11.5 9.451\n",
    " 11.6 9.550\n",
    " 11.7 9.649\n",
    " 11.8 9.748\n",
    " 11.9 9.847\n",
    " 12.0 9.945\n",
    " 12.1 10.04\n",
    " 12.2 10.14\n",
    " 12.3 10.24\n",
    " 12.4 10.34\n",
    " 12.5 10.44\n",
    " 12.6 10.54\n",
    " 12.7 10.64\n",
    " 12.8 10.74\n",
    " 12.9 10.83\n",
    " 13.0 10.93\n",
    " 13.1 11.03\n",
    " 13.2 11.13\n",
    " 13.3 11.23\n",
    " 13.4 11.33\n",
    " 13.5 11.43\n",
    " 13.6 11.53\n",
    " 13.7 11.63\n",
    " 13.8 11.73\n",
    " 13.9 11.82\n",
    " 14.0 11.92\n",
    " 14.1 12.02\n",
    " 14.2 12.12\n",
    " 14.3 12.22\n",
    " 14.4 12.32\n",
    " 14.5 12.42\n",
    " 14.6 12.52\n",
    " 14.7 12.62\n",
    " 14.8 12.72\n",
    " 14.9 12.81\n",
    " 15.0 12.91\n",
    "''')"
   ]
  },
  {
   "attachments": {},
   "cell_type": "markdown",
   "metadata": {},
   "source": [
    "Funktionen `loadtxt()` från biblioteket `numpy` ger oss möjligheten att ladda in data från en textfil eller från ett textblock som här. \n",
    "\n",
    "Här får vi ut "
   ]
  },
  {
   "cell_type": "code",
   "execution_count": null,
   "metadata": {},
   "outputs": [],
   "source": [
    "U_0, U_R = np.loadtxt(leddatafile, unpack=True)"
   ]
  },
  {
   "attachments": {},
   "cell_type": "markdown",
   "metadata": {},
   "source": [
    "Det här experimentet ströks från Labb 1, men i princip så använder vi den uppmätta spänningen över ett motstånd på $330\\,\\text{Ω}$ för att mäta strömmen genom motståndet och hela kretsen.\n",
    "\n",
    "Dvs vi kan räkna ut strömmen enligt $\\displaystyle I = \\frac{U}{R}$. Vi beräknar även spänningen över den andra komponenten (en lysdiod) genom att subtrahera spänningen över motståndet $U_R$ från spänningen från spänningskällan $U_0$.\n",
    "\n",
    "Våra mätpunkter ligger i numpy-listor som tillåter att vi kan räkna med hela listan åt en gång - operationen utförs dock element för element, rad för rad."
   ]
  },
  {
   "cell_type": "code",
   "execution_count": null,
   "metadata": {},
   "outputs": [],
   "source": [
    "I = U_R / 330\n",
    "\n",
    "U_D = U_0 - U_R"
   ]
  },
  {
   "attachments": {},
   "cell_type": "markdown",
   "metadata": {},
   "source": [
    "Och nu ritar vi den motsvarande grafen med text på axlarna..."
   ]
  },
  {
   "cell_type": "code",
   "execution_count": null,
   "metadata": {},
   "outputs": [],
   "source": [
    "fig, ax = plt.subplots()\n",
    "ax.plot(U_D, I * 1000, \".\", label=\"data\")\n",
    "ax.legend()\n",
    "ax.set_xlabel(r\"spänning över dioden $U_D/\\rm{V}$\")\n",
    "ax.set_ylabel(r\"ström genom dioden $I/\\rm{mA}$\")"
   ]
  },
  {
   "attachments": {},
   "cell_type": "markdown",
   "metadata": {},
   "source": [
    "Med lite fantasi så kan vi föreställa oss att det här skulle kunna vara en exponentiell$^\\text{TM}$ funktion. För att bekräfta det så kan vi rita grafen med en logaritmisk y-axel istället:"
   ]
  },
  {
   "cell_type": "code",
   "execution_count": null,
   "metadata": {},
   "outputs": [],
   "source": [
    "fig, ax = plt.subplots()\n",
    "ax.semilogy(U_D, I * 1000, \".\", label=\"data\")\n",
    "ax.legend()\n",
    "ax.set_xlabel(r\"spänning över dioden $U_D/\\rm{V}$\")\n",
    "ax.set_ylabel(r\"ström genom dioden $I/\\rm{mA}$\")"
   ]
  },
  {
   "attachments": {},
   "cell_type": "markdown",
   "metadata": {},
   "source": [
    "Bilden visar en mycket rak linje som bekräftar att mätdatan följer en exponentiell trend."
   ]
  }
 ],
 "metadata": {
  "kernelspec": {
   "display_name": "Python 3",
   "language": "python",
   "name": "python3"
  },
  "language_info": {
   "codemirror_mode": {
    "name": "ipython",
    "version": 3
   },
   "file_extension": ".py",
   "mimetype": "text/x-python",
   "name": "python",
   "nbconvert_exporter": "python",
   "pygments_lexer": "ipython3",
   "version": "3.9.8"
  },
  "orig_nbformat": 4,
  "vscode": {
   "interpreter": {
    "hash": "c85a162d7e6feb9ce7a63b9e0bf7bb0701e25096002d986edf763ed39e4d2885"
   }
  }
 },
 "nbformat": 4,
 "nbformat_minor": 2
}
