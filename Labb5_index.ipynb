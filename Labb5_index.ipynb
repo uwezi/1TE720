{
 "cells": [
  {
   "attachments": {},
   "cell_type": "markdown",
   "metadata": {},
   "source": [
    "# Labb 5 - länkar till skriptfilerna"
   ]
  },
  {
   "attachments": {},
   "cell_type": "markdown",
   "metadata": {},
   "source": [
    "## Ritning av grafer och databehandling\n",
    "1. [Linus Paulings graf](./linus_pauling.ipynb)\n",
    "1. [att rita grafer med matplotlib](./Labb5_plotdata_basics.ipynb)\n",
    "1. [databehandling med python](./Labb5_plotdata_diode.ipynb)\n",
    "1. [statistik med python och matplotlib](./Labb5_plotdata_statistik.ipynb)\n",
    "## Kurvanpassningar\n",
    "1. [en analytisk kurvanpassning](./Labb5_kurvanpassning_analytisk.ipynb)\n",
    "1. [kurvanpassning med `optim.curve_fit()`](./Labb5_kurvanpassning_numerisk.ipynb)\n",
    "1. [kurvanpassning: tredje grads polynom](./Labb5_kurvanpassning_tredjegrad.ipynb)\n",
    "1. [kurvanpassning: sinuskurva](./Labb5_kurvanpassning_sinus.ipynb)\n",
    "1. [kurvanpassning: dämpad oscillation](Labb5_kurvanpassning_gyro.ipynb)"
   ]
  }
 ],
 "metadata": {
  "kernelspec": {
   "display_name": "Python 3",
   "language": "python",
   "name": "python3"
  },
  "language_info": {
   "name": "python",
   "version": "3.9.8 (tags/v3.9.8:bb3fdcf, Nov  5 2021, 20:48:33) [MSC v.1929 64 bit (AMD64)]"
  },
  "orig_nbformat": 4,
  "vscode": {
   "interpreter": {
    "hash": "c85a162d7e6feb9ce7a63b9e0bf7bb0701e25096002d986edf763ed39e4d2885"
   }
  }
 },
 "nbformat": 4,
 "nbformat_minor": 2
}
