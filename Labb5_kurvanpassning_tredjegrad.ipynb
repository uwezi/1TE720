{
 "cells": [
  {
   "attachments": {},
   "cell_type": "markdown",
   "metadata": {},
   "source": [
    "# Kurvanpassning av brusig data"
   ]
  },
  {
   "attachments": {},
   "cell_type": "markdown",
   "metadata": {},
   "source": [
    "Målet är att se hur en minsta-kvadrat-anpassning av Python går till och hur den kan återskapa den sanna kurvan bakom våra mätpunkter. Vi skapar först en sann kurva av vår modellfunktion, sedan räknar vi ut \"mätpunkter\" som vi förse med slumpmässiga avvikelser för att sedan försöka återskapa originalfunktionen."
   ]
  },
  {
   "attachments": {},
   "cell_type": "markdown",
   "metadata": {},
   "source": [
    "Först igen våra importerade bibliotek."
   ]
  },
  {
   "cell_type": "code",
   "execution_count": null,
   "metadata": {},
   "outputs": [],
   "source": [
    "from matplotlib import pyplot as plt\n",
    "%matplotlib inline\n",
    "plt.rcParams['figure.figsize'] = [12, 9]\n",
    "import scipy.optimize as opt\n",
    "import numpy as np\n",
    "from IPython.display import display, Math, Markdown"
   ]
  },
  {
   "attachments": {},
   "cell_type": "markdown",
   "metadata": {},
   "source": [
    "Funktionen som vi utgår ifrån är en tredjegrads polynom<br/>\n",
    "$f(x)=A x^3+B x^2 + C x + D$<br/>\n",
    "Parametrarna $A$, $B$, $C$ och $D$ måste stå med i funktionsdeklarationen."
   ]
  },
  {
   "cell_type": "code",
   "execution_count": null,
   "metadata": {},
   "outputs": [],
   "source": [
    "def funktion(x, A, B, C, D):\n",
    "    return A*x**3 + B*x**2 + C*x + D"
   ]
  },
  {
   "attachments": {},
   "cell_type": "markdown",
   "metadata": {},
   "source": [
    "Med hjälp av `np.arange()` skapar vi en lista med x-koordinater från -10 till 10 i steg på 0.01"
   ]
  },
  {
   "cell_type": "code",
   "execution_count": null,
   "metadata": {},
   "outputs": [],
   "source": [
    "x = np.arange(-10, 10, 0.01)\n",
    "print(x)"
   ]
  },
  {
   "attachments": {},
   "cell_type": "markdown",
   "metadata": {},
   "source": [
    "Nu definieras de sanna funktionsvärderna med funktionen\n",
    "$f(x)=x^3 + 20 x^2 + 30 x + 40$"
   ]
  },
  {
   "cell_type": "code",
   "execution_count": null,
   "metadata": {},
   "outputs": [],
   "source": [
    "origParams = [1, 20, 30, 40]\n",
    "\n",
    "y_sann = funktion(x, *origParams)"
   ]
  },
  {
   "attachments": {},
   "cell_type": "markdown",
   "metadata": {},
   "source": [
    "Hur ser den sanna kurvan ut?"
   ]
  },
  {
   "cell_type": "code",
   "execution_count": null,
   "metadata": {},
   "outputs": [],
   "source": [
    "fig, ax = plt.subplots()\n",
    "ax.plot(x, y_sann, \"k-\", label = \"original\", linewidth=2)"
   ]
  },
  {
   "attachments": {},
   "cell_type": "markdown",
   "metadata": {},
   "source": [
    "Nu skapar vi _brus_ med hjälp av normalfördelade slumptal med<br/>\n",
    "$\\overline{y}=0.0$ och $\\sigma=200$"
   ]
  },
  {
   "cell_type": "code",
   "execution_count": null,
   "metadata": {},
   "outputs": [],
   "source": [
    "brus = np.random.normal(loc=0, scale=200, size=x.size)\n",
    "\n",
    "fig, ax = plt.subplots()\n",
    "ax.plot(x, brus, \"b.\", label = \"brus\", markersize = 1)\n",
    "ax.axhline(y=np.mean(brus), color=\"red\")\n",
    "ax.axhspan(ymin=-1*np.std(brus), ymax=+1*np.std(brus), color=\"yellow\", alpha=0.7)\n",
    "ax.axhspan(ymin=-2*np.std(brus), ymax=+2*np.std(brus), color=\"yellow\", alpha=0.4)\n",
    "ax.axhspan(ymin=-3*np.std(brus), ymax=+3*np.std(brus), color=\"yellow\", alpha=0.2)"
   ]
  },
  {
   "attachments": {},
   "cell_type": "markdown",
   "metadata": {},
   "source": [
    "Nu adderar vi brus-vektorn till vektorn med våra mätpunkter"
   ]
  },
  {
   "cell_type": "code",
   "execution_count": null,
   "metadata": {},
   "outputs": [],
   "source": [
    "y_brus = y_sann + brus"
   ]
  },
  {
   "attachments": {},
   "cell_type": "markdown",
   "metadata": {},
   "source": [
    "Och sedan kollar vi hur mätpunkterna med brus ser ut:"
   ]
  },
  {
   "cell_type": "code",
   "execution_count": null,
   "metadata": {},
   "outputs": [],
   "source": [
    "fig, ax = plt.subplots()\n",
    "ax.plot(x, y_brus, \"b.\", label = \"med brus\", markersize = 3)\n",
    "ax.plot(x, y_sann, \"k-\", label = \"original\", linewidth=1)"
   ]
  },
  {
   "attachments": {},
   "cell_type": "markdown",
   "metadata": {},
   "source": [
    "Till kurvanpassningen måste vi börja med uppskattade/gissade startvärden fär våra parametrar. Python letar sedan efter den bästa kurvanpassningen med dessa startvärden som utgångspunkt.<br/>\n",
    "Låt oss även kolla hur kurvan med våra stratvärden som parameter ser ut:"
   ]
  },
  {
   "cell_type": "code",
   "execution_count": null,
   "metadata": {},
   "outputs": [],
   "source": [
    "guessParams = [0, 0, 0, 0]\n",
    "\n",
    "fig, ax = plt.subplots()\n",
    "ax.plot(x, y_brus, \"b.\", label = \"med brus\", markersize = 3)\n",
    "ax.plot(x, y_sann, \"k-\", label = \"original\", linewidth=1)\n",
    "ax.plot(x, funktion(x, *guessParams), \"m-\", label = \"gissning\", linewidth=2)\n",
    "ax.legend()"
   ]
  },
  {
   "attachments": {},
   "cell_type": "markdown",
   "metadata": {},
   "source": [
    "Och nu startar vi kurvanpassningen med `opt.curve_fit()`.<br/>\n",
    "Genom att välja `verbose=2` får vi uppdateringar under anpassningsprocessen."
   ]
  },
  {
   "cell_type": "code",
   "execution_count": null,
   "metadata": {},
   "outputs": [],
   "source": [
    "optimParams, pcov = opt.curve_fit(f=funktion, xdata=x, ydata=y_brus, p0=guessParams, method=\"trf\", verbose=2)"
   ]
  },
  {
   "attachments": {},
   "cell_type": "markdown",
   "metadata": {},
   "source": [
    "Sista raden av meddelanden från `opt.curve_fit()` ger oss lite information om Python lyckades eller misslyckades. Om den lyckades så kan vi titta på resultaten och jämföra med vår sanna funktion:"
   ]
  },
  {
   "cell_type": "code",
   "execution_count": null,
   "metadata": {},
   "outputs": [],
   "source": [
    "print(\"anpassad: A={:8g}, B={:8g}, C={:8g} D={:8g}\".format(*optimParams))\n",
    "print(\"sannt:    A={:8g}, B={:8g}, C={:8g} D={:8g}\".format(*origParams))\n",
    "\n",
    "display(Markdown(r\"anpassad:      $f(x) = {:8g} x^3 {:+8g} x^2 {:+8g} x {:+8g}$\".format(*optimParams)))\n",
    "display(Markdown(r\"sann funktion: $f(x) = {:8g} x^3 {:+8g} x^2 {:+8g} x {:+8g}$\".format(*origParams)))"
   ]
  },
  {
   "attachments": {},
   "cell_type": "markdown",
   "metadata": {},
   "source": [
    "Och hur ser det ut som graf?\n",
    "\n",
    "dessa kommandon använde vi ovan:<br/>\n",
    "`fig, ax = plt.subplots()`<br/>\n",
    "`ax.plot(x, y_brus, \"b.\", label = \"med brus\", markersize = 3)`<br/>\n",
    "`ax.plot(x, y_sann, \"k-\", label = \"original\", linewidth = 1)`<br/>\n",
    "`ax.plot(x, funktion(x, *guessParams), \"m-\", label = \"gissning\", linewidth = 2)`<br/>\n",
    "`ax.plot(x, funktion(x, *optimParams), \"r-\", label = \"anpassad\", linewidth = 5)`<br/>\n",
    "`ax.legend()`<br/>\n"
   ]
  },
  {
   "cell_type": "code",
   "execution_count": null,
   "metadata": {},
   "outputs": [],
   "source": [
    "# gör din egen plot här"
   ]
  }
 ],
 "metadata": {
  "kernelspec": {
   "display_name": "Python 3",
   "language": "python",
   "name": "python3"
  },
  "language_info": {
   "codemirror_mode": {
    "name": "ipython",
    "version": 3
   },
   "file_extension": ".py",
   "mimetype": "text/x-python",
   "name": "python",
   "nbconvert_exporter": "python",
   "pygments_lexer": "ipython3",
   "version": "3.9.8"
  },
  "orig_nbformat": 4,
  "vscode": {
   "interpreter": {
    "hash": "c85a162d7e6feb9ce7a63b9e0bf7bb0701e25096002d986edf763ed39e4d2885"
   }
  }
 },
 "nbformat": 4,
 "nbformat_minor": 2
}
