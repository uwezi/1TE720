{
 "cells": [
  {
   "attachments": {},
   "cell_type": "markdown",
   "metadata": {},
   "source": [
    "# Kurvanpassningen med Pythons egna bibliotek"
   ]
  },
  {
   "attachments": {},
   "cell_type": "markdown",
   "metadata": {},
   "source": [
    "Först ska vi ladda lite externa bibliotek"
   ]
  },
  {
   "cell_type": "code",
   "execution_count": null,
   "metadata": {},
   "outputs": [],
   "source": [
    "from matplotlib import pyplot as plt\n",
    "import scipy.optimize as opt\n",
    "import numpy as np\n",
    "import math\n",
    "%matplotlib inline\n",
    "plt.rcParams['figure.figsize'] = [12, 9]"
   ]
  },
  {
   "attachments": {},
   "cell_type": "markdown",
   "metadata": {},
   "source": [
    "Sedan ange vi vår mätdata i källkoden i form av två listor: \n",
    "\n",
    "uppmätta spänningar $U_{meas}$ och uppmätta strömar $I_{meas}$ i variablerna `Umeas` och `Imeas`"
   ]
  },
  {
   "cell_type": "code",
   "execution_count": null,
   "metadata": {},
   "outputs": [],
   "source": [
    "Umeas = [ 0.0, 1.0, 2.0, 3.0, 4.0, 5.0, 6.0, 7.0, 8.0, 9.0, 10.0, -1.0, -2.0, -3.0, -4.0, -5.0, -6.0, -7.0, -8.0, -9.0, -10.0]\n",
    "Imeas = [ 0.0, 2.8, 5.8, 8.8, 11.7, 14.7, 17.7, 20.7, 23.7, 26.6, 29.6, -2.8, -5.8, -8.7, -11.7, -14.7, -17.7, -20.6, -23.6, -26.6, -29.6]"
   ]
  },
  {
   "attachments": {},
   "cell_type": "markdown",
   "metadata": {},
   "source": [
    "Och sedan ritar vi upp våra mätpunkter med matplotlib.pyplot.plot()"
   ]
  },
  {
   "cell_type": "code",
   "execution_count": null,
   "metadata": {},
   "outputs": [],
   "source": [
    "plt.plot(Umeas, Imeas)"
   ]
  },
  {
   "attachments": {},
   "cell_type": "markdown",
   "metadata": {},
   "source": [
    "Vi kan anpassa utseendet av kurvan med olika parameter/attribut"
   ]
  },
  {
   "cell_type": "code",
   "execution_count": null,
   "metadata": {},
   "outputs": [],
   "source": [
    "fig, ax = plt.subplots()\n",
    "ax.plot(\n",
    "    Umeas, Imeas, \n",
    "    color=\"blue\", \n",
    "    linestyle=\":\", \n",
    "    linewidth=2, \n",
    "    marker=\"o\", \n",
    "    markeredgecolor=\"blue\", \n",
    "    markerfacecolor=\"red\", \n",
    "    markersize=15\n",
    ")"
   ]
  },
  {
   "cell_type": "code",
   "execution_count": null,
   "metadata": {},
   "outputs": [],
   "source": [
    "fig, ax = plt.subplots()\n",
    "ax.set(xlim=[-2,2], ylim=[-8,8])\n",
    "ax.plot(\n",
    "    Umeas, Imeas, \n",
    "    color=\"blue\", \n",
    "    linestyle=\":\", \n",
    "    linewidth=2, \n",
    "    marker=\"o\", \n",
    "    markeredgecolor=\"blue\", \n",
    "    markerfacecolor=\"red\", \n",
    "    markersize=15\n",
    ")"
   ]
  },
  {
   "attachments": {},
   "cell_type": "markdown",
   "metadata": {},
   "source": [
    "Varifrån kommer den dubbla linjen?\n",
    "\n",
    "Våra mätpunkter är osorterade - först kommer värden med positiva spänningar, sedan hoppar listan från den högsta positiva spänningen till den första negativa punkten.\n",
    "\n",
    "Och Python bara drar en linje från punkt till punkt här.\n",
    "\n",
    "Det är därför bättre att sortera mätpunkterna - inte för hand, fast med Python."
   ]
  },
  {
   "cell_type": "code",
   "execution_count": null,
   "metadata": {},
   "outputs": [],
   "source": [
    "data = list( zip( Umeas, Imeas ) )\n",
    "sortdata = sorted(data)\n",
    "\n",
    "x = [row[0] for row in sortdata]\n",
    "y = [row[1] for row in sortdata]"
   ]
  },
  {
   "cell_type": "code",
   "execution_count": null,
   "metadata": {},
   "outputs": [],
   "source": [
    "fig, ax = plt.subplots()\n",
    "ax.plot(x, y, \"b+:\")"
   ]
  },
  {
   "attachments": {},
   "cell_type": "markdown",
   "metadata": {},
   "source": [
    "Mätpunkterna kommer från ett experiment med en spänningskälla, ett motstånd och en amperemeter. \n",
    "\n",
    "Därför borde Ohms lag gäller $I = U/R$ och för att hantera systematiska fel lägger vi till en konstant $I_{offs}$.\n",
    "\n",
    "Låt oss se hur kurvan skulle se ut för $R = 300\\,\\text{Ω}$."
   ]
  },
  {
   "cell_type": "code",
   "execution_count": null,
   "metadata": {},
   "outputs": [],
   "source": [
    "def Iteor(U, R, Ioffs):\n",
    "    return U / R * 1000 + Ioffs\n",
    "\n",
    "calc_x = np.arange(-12, 12, 0.01)\n",
    "calc_y = Iteor(calc_x, 300, 0)"
   ]
  },
  {
   "attachments": {},
   "cell_type": "markdown",
   "metadata": {},
   "source": [
    "`calc_x = np.arange(-12, 12, 0.01)` skapar en lista med spänningsvärden mellan $-12\\,\\text{V}$ och $+12\\,\\text{V}$ med steg på $0.01\\,\\text{V}=10\\,\\text{mV}$\n",
    "\n",
    "`calc_y = Iteor(calc_x, 300, 0)` skapar en lista med ett funktionsvärde $f(x)=mx+b$ för alla värden från listan `calc_x`"
   ]
  },
  {
   "attachments": {},
   "cell_type": "markdown",
   "metadata": {},
   "source": [
    "## Kurvanpassning med `scipy.optimize.curve_fit`\n",
    "\n",
    "Funktionen `curve_fit()` använder en numerisk optimering för att hitta parametrarna i en given modellfunktion `f` som ser till att den teoretiska modellen passar bäst till mätvärden `xdata` och `ydata`.\n",
    "\n",
    "Även om det finns en riktig optimal lösning så finns det dock inga garantier att `curve_fit()` kommer lyckas, algoritmen kan fastna på lokala extrema istället. Därför är det alltid viktigt att visuellt jämnföra den anpassade kurvan med de ursprungliga mätpunkterna."
   ]
  },
  {
   "cell_type": "code",
   "execution_count": null,
   "metadata": {},
   "outputs": [],
   "source": [
    "optimizedParameters, pcov = opt.curve_fit(f=Iteor, xdata=x, ydata=y, p0=[1, 0], method=\"trf\", verbose=2)"
   ]
  },
  {
   "attachments": {},
   "cell_type": "markdown",
   "metadata": {},
   "source": [
    "Obs! De sista raderna här ger oss informationen över hur bra Python lyckades med anpassningen. "
   ]
  },
  {
   "attachments": {},
   "cell_type": "markdown",
   "metadata": {},
   "source": [
    "`optimizedParameters` är en lista som i vårt fall innehåller värden för $m$ och $b$"
   ]
  },
  {
   "cell_type": "code",
   "execution_count": null,
   "metadata": {},
   "outputs": [],
   "source": [
    "print(\"m = {:.3f} Ω    b = {:.3g} A\".format(optimizedParameters[0],optimizedParameters[1]))\n",
    "print(\"I = U/{:.3f} Ω {:+.3g} A\".format(optimizedParameters[0],optimizedParameters[1]))"
   ]
  },
  {
   "attachments": {},
   "cell_type": "markdown",
   "metadata": {},
   "source": [
    "Hur bra blev kurvanpassningen?"
   ]
  },
  {
   "cell_type": "code",
   "execution_count": null,
   "metadata": {},
   "outputs": [],
   "source": [
    "calc_y = Iteor(calc_x, *optimizedParameters)\n",
    "\n",
    "fig, ax = plt.subplots()\n",
    "ax.plot(x, y, color=\"red\", linestyle=\"\", linewidth=2, marker=\"o\",\n",
    "         markeredgecolor=\"blue\", markerfacecolor=\"red\", markersize=15)\n",
    "ax.plot(calc_x, calc_y, \"b-\")"
   ]
  }
 ],
 "metadata": {
  "kernelspec": {
   "display_name": "Python 3",
   "language": "python",
   "name": "python3"
  },
  "language_info": {
   "codemirror_mode": {
    "name": "ipython",
    "version": 3
   },
   "file_extension": ".py",
   "mimetype": "text/x-python",
   "name": "python",
   "nbconvert_exporter": "python",
   "pygments_lexer": "ipython3",
   "version": "3.9.8"
  },
  "orig_nbformat": 4,
  "vscode": {
   "interpreter": {
    "hash": "c85a162d7e6feb9ce7a63b9e0bf7bb0701e25096002d986edf763ed39e4d2885"
   }
  }
 },
 "nbformat": 4,
 "nbformat_minor": 2
}
