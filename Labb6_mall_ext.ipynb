{
 "cells": [
  {
   "cell_type": "code",
   "execution_count": null,
   "metadata": {},
   "outputs": [],
   "source": [
    "from matplotlib import pyplot as plt\n",
    "%matplotlib inline\n",
    "plt.rcParams['figure.figsize'] = [16, 9]\n",
    "import scipy.optimize as opt\n",
    "import numpy as np\n",
    "import math\n",
    "from io import StringIO"
   ]
  },
  {
   "cell_type": "code",
   "execution_count": null,
   "metadata": {},
   "outputs": [],
   "source": [
    "def modellfunktion(t, U_0, tau):\n",
    "    return U_0 * np.exp(-t / tau)"
   ]
  },
  {
   "cell_type": "code",
   "execution_count": null,
   "metadata": {},
   "outputs": [],
   "source": [
    "filnamn = \"uz_data_100k_100n.txt\"\n",
    "t, U = np.loadtxt(filnamn, unpack=True)\n",
    "fig, ax = plt.subplots()\n",
    "ax.plot(t, U, \"r+\")"
   ]
  },
  {
   "cell_type": "code",
   "execution_count": null,
   "metadata": {},
   "outputs": [],
   "source": [
    "fig, ax = plt.subplots()\n",
    "ax.semilogy(t,U,\"r+\")"
   ]
  },
  {
   "cell_type": "code",
   "execution_count": null,
   "metadata": {},
   "outputs": [],
   "source": [
    "gissning = [5,1e-4]\n",
    "optimParams, pcov = opt.curve_fit(modellfunktion, t, U, p0=gissning, method=\"trf\", verbose=2)\n",
    "print(\"\\nU_0 = {} V   tau = {} s\".format(optimParams[0],optimParams[1]))"
   ]
  },
  {
   "cell_type": "code",
   "execution_count": null,
   "metadata": {},
   "outputs": [],
   "source": [
    "xvals = np.arange(min(t),1.2*max(t),max(t)/1200)\n",
    "yvals = modellfunktion(xvals, *optimParams)\n",
    "\n",
    "fig, ax = plt.subplots(ncols=2)\n",
    "fig.suptitle(filnamn, fontsize=30)\n",
    "ax[0].text( 0.95, 0.75, \n",
    "           r\"$U(t)={:.2f}\\,\\rm{{V}} \\cdot e^{{-t/{:.3g}\\,\\rm{{s}}}}$\".format(optimParams[0],optimParams[1]), \n",
    "           horizontalalignment='right',\n",
    "           size=20,\n",
    "           transform=ax[0].transAxes )\n",
    "ax[0].plot(t, U, \"r+\", label=\"data\")\n",
    "ax[0].plot(xvals, yvals, \"b-\", label=\"anpassad\")\n",
    "ax[0].legend()\n",
    "ax[0].set_xlabel(r\"tid $t\\,\\,\\,[s]$\")\n",
    "ax[0].set_ylabel(r\"spänning över kondensatorn $U_C\\,\\,\\,[V]$\")\n",
    "ax[1].semilogy(t, U, \"r+\", label=\"data\")\n",
    "ax[1].semilogy(xvals, yvals, \"b-\", label=\"anpassad\")\n",
    "ax[1].legend()\n",
    "ax[1].set_xlabel(r\"tid $t\\,\\,\\,[s]$\")\n",
    "ax[1].set_ylabel(r\"spänning över kondensatorn $U_C\\,\\,\\,[V]$\")"
   ]
  }
 ],
 "metadata": {
  "kernelspec": {
   "display_name": "Python 3",
   "language": "python",
   "name": "python3"
  },
  "language_info": {
   "codemirror_mode": {
    "name": "ipython",
    "version": 3
   },
   "file_extension": ".py",
   "mimetype": "text/x-python",
   "name": "python",
   "nbconvert_exporter": "python",
   "pygments_lexer": "ipython3",
   "version": "3.9.8"
  },
  "orig_nbformat": 4,
  "vscode": {
   "interpreter": {
    "hash": "c85a162d7e6feb9ce7a63b9e0bf7bb0701e25096002d986edf763ed39e4d2885"
   }
  }
 },
 "nbformat": 4,
 "nbformat_minor": 2
}
