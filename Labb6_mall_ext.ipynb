{
 "cells": [
  {
   "attachments": {},
   "cell_type": "markdown",
   "metadata": {},
   "source": [
    "# Kurvanpassning av mätdata\n",
    "Vi studerar urladdningen av en kondensator genom ett motstånd. Kondensatorn laddas först upp till en spänning $U_0=5\\,\\text{V}$ och sedan tar vi mätpunkter av spänningen $U(t)$ för olika tider $t$. "
   ]
  },
  {
   "cell_type": "code",
   "execution_count": null,
   "metadata": {},
   "outputs": [],
   "source": [
    "from matplotlib import pyplot as plt\n",
    "%matplotlib inline\n",
    "plt.rcParams['figure.figsize'] = [16, 9]\n",
    "import scipy.optimize as opt\n",
    "import numpy as np\n",
    "from io import StringIO"
   ]
  },
  {
   "attachments": {},
   "cell_type": "markdown",
   "metadata": {},
   "source": [
    "Vi sparar mätdatan som kommer från en Arduino i en textfil här i samma katalog där vi har vår Jupyter notebook eller python skript. Denna fil läser vi in här och får värden i två listor `t` och `U`."
   ]
  },
  {
   "cell_type": "code",
   "execution_count": null,
   "metadata": {},
   "outputs": [],
   "source": [
    "filnamn = \"uz_data_100k_100n.txt\"\n",
    "t, U = np.loadtxt(filnamn, unpack=True)"
   ]
  },
  {
   "attachments": {},
   "cell_type": "markdown",
   "metadata": {},
   "source": [
    "En graf med mätpunkterna på en linjär skala ser ut så här:"
   ]
  },
  {
   "cell_type": "code",
   "execution_count": null,
   "metadata": {},
   "outputs": [],
   "source": [
    "fig, ax = plt.subplots()\n",
    "ax.plot(t, U, \"r+\")"
   ]
  },
  {
   "attachments": {},
   "cell_type": "markdown",
   "metadata": {},
   "source": [
    "Och samma data med en logaritmis y-axel och linjär x-axel (\"_halvlogaritmisk plot_\") får vi med dessa kommandon: "
   ]
  },
  {
   "cell_type": "code",
   "execution_count": null,
   "metadata": {},
   "outputs": [],
   "source": [
    "def modellfunktion(t, U_0, tau):\n",
    "    return U_0 * np.exp(-t / tau)"
   ]
  },
  {
   "attachments": {},
   "cell_type": "markdown",
   "metadata": {},
   "source": [
    "I kursen Elektromagnetism får ni höra mer om vad som händer vid laddning och urladdning av kondensatorn. Men den kurva som vi ser i våra mätpunkter följer det teoretiska resultatet som ni kommer få fram då.\n",
    "\n",
    "Vår modellfunktion till fysiken som händer här är en med tiden exponentiellt avtagande spänning $U(t)$ enligt\n",
    "\n",
    "$\\displaystyle U(t) = U_0\\cdot e^{-t/\\tau}$ \n",
    "\n",
    "med parametrarna $U_0$ och $\\tau$, där $U_0$ är spänningen vid tiden $t=0$ och $\\tau$ anger hur snabbt spänningen avtar."
   ]
  },
  {
   "cell_type": "code",
   "execution_count": null,
   "metadata": {},
   "outputs": [],
   "source": [
    "fig, ax = plt.subplots()\n",
    "ax.semilogy(t,U,\"r+\")"
   ]
  },
  {
   "attachments": {},
   "cell_type": "markdown",
   "metadata": {},
   "source": [
    "Till kurvanpassningen behöver vi som vanligt våra startvärden `gissning`. "
   ]
  },
  {
   "cell_type": "code",
   "execution_count": null,
   "metadata": {},
   "outputs": [],
   "source": [
    "gissning = [5,1e-4]"
   ]
  },
  {
   "attachments": {},
   "cell_type": "markdown",
   "metadata": {},
   "source": [
    "Hur bra passar vår gissning till våra mätpunkter?<br/>\n",
    "Vi gör en graf där vi jämför kurvan med mätpunkterna. Till detta skapar vi en ny lista med x-värden `xvals` som är tätare än våra mätpunkter."
   ]
  },
  {
   "cell_type": "code",
   "execution_count": null,
   "metadata": {},
   "outputs": [],
   "source": [
    "xvals = np.arange(min(t),1.2*max(t),max(t)/1200)\n",
    "\n",
    "fig, ax = plt.subplots()\n",
    "ax.plot(t, U, \"r+\")\n",
    "ax.plot(xvals, modellfunktion(xvals, *gissning), \"b-\")"
   ]
  },
  {
   "attachments": {},
   "cell_type": "markdown",
   "metadata": {},
   "source": [
    "Kan kurvanpassningen lyckas? Låt oss testa."
   ]
  },
  {
   "cell_type": "code",
   "execution_count": null,
   "metadata": {},
   "outputs": [],
   "source": [
    "optimParams, pcov = opt.curve_fit(modellfunktion, t, U, p0=gissning, method=\"trf\", verbose=2)"
   ]
  },
  {
   "attachments": {},
   "cell_type": "markdown",
   "metadata": {},
   "source": [
    "Återigen så ger sista raden av utskriften information över kurvanpassningens framgång."
   ]
  },
  {
   "cell_type": "code",
   "execution_count": null,
   "metadata": {},
   "outputs": [],
   "source": [
    "print(\"\\nU_0 = {:.3f} V   tau = {:.5g} s\".format(optimParams[0],optimParams[1]))"
   ]
  },
  {
   "attachments": {},
   "cell_type": "markdown",
   "metadata": {},
   "source": [
    "Och som tidigare så måste vi förvissa oss om att kurvanpassningen verkligen passar bra till våra mätpunkter. Här vill vi veta både hur anpassningen lyckades på en linjär och en logaritmisk skala - en figur med två grafer sida vid sida ger oss svaret."
   ]
  },
  {
   "cell_type": "code",
   "execution_count": null,
   "metadata": {},
   "outputs": [],
   "source": [
    "xvals = np.arange(min(t),1.2*max(t),max(t)/1200)\n",
    "yvals = modellfunktion(xvals, *optimParams)\n",
    "\n",
    "fig, ax = plt.subplots(ncols=2)\n",
    "fig.suptitle(filnamn, fontsize=30)\n",
    "ax[0].text( 0.95, 0.75, \n",
    "           r\"$U(t)={:.2f}\\,\\rm{{V}} \\cdot e^{{-t/{:.3g}\\,\\rm{{s}}}}$\".format(optimParams[0],optimParams[1]), \n",
    "           horizontalalignment='right',\n",
    "           size=20,\n",
    "           transform=ax[0].transAxes )\n",
    "ax[0].plot(t, U, \"r+\", label=\"data\")\n",
    "ax[0].plot(xvals, yvals, \"b-\", label=\"anpassad\")\n",
    "ax[0].legend()\n",
    "ax[0].set_xlabel(r\"tid $t\\,\\,\\,[s]$\")\n",
    "ax[0].set_ylabel(r\"spänning över kondensatorn $U_C\\,\\,\\,[V]$\")\n",
    "ax[1].semilogy(t, U, \"r+\", label=\"data\")\n",
    "ax[1].semilogy(xvals, yvals, \"b-\", label=\"anpassad\")\n",
    "ax[1].legend()\n",
    "ax[1].set_xlabel(r\"tid $t\\,\\,\\,[s]$\")\n",
    "ax[1].set_ylabel(r\"spänning över kondensatorn $U_C\\,\\,\\,[V]$\");"
   ]
  }
 ],
 "metadata": {
  "kernelspec": {
   "display_name": "Python 3",
   "language": "python",
   "name": "python3"
  },
  "language_info": {
   "codemirror_mode": {
    "name": "ipython",
    "version": 3
   },
   "file_extension": ".py",
   "mimetype": "text/x-python",
   "name": "python",
   "nbconvert_exporter": "python",
   "pygments_lexer": "ipython3",
   "version": "3.9.8 (tags/v3.9.8:bb3fdcf, Nov  5 2021, 20:48:33) [MSC v.1929 64 bit (AMD64)]"
  },
  "orig_nbformat": 4,
  "vscode": {
   "interpreter": {
    "hash": "c85a162d7e6feb9ce7a63b9e0bf7bb0701e25096002d986edf763ed39e4d2885"
   }
  }
 },
 "nbformat": 4,
 "nbformat_minor": 2
}
