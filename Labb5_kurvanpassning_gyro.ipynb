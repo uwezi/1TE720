{
 "cells": [
  {
   "attachments": {},
   "cell_type": "markdown",
   "metadata": {},
   "source": [
    "# Kurvanpassning av en dämpad oscillation\n",
    "Experimentet utfördes med ett accelerometer som var fäst på en gunga. Gungans (pendelns) amplitud och dess maximala vinkelhastighet avtar exponentiellt med tiden medan pendeln själv följer en nästan perfekt harmonisk oscillation. Vi ska betrakta här vinkelhastigheten av pendeln."
   ]
  },
  {
   "attachments": {},
   "cell_type": "markdown",
   "metadata": {},
   "source": [
    "Först som vanligt - några externa bibliotek:"
   ]
  },
  {
   "cell_type": "code",
   "execution_count": null,
   "metadata": {},
   "outputs": [],
   "source": [
    "from matplotlib import pyplot as plt\n",
    "%matplotlib inline\n",
    "plt.rcParams['figure.figsize'] = [12, 9]\n",
    "import scipy.optimize as opt\n",
    "import numpy as np\n",
    "from IPython.display import display, Math, Markdown"
   ]
  },
  {
   "attachments": {},
   "cell_type": "markdown",
   "metadata": {},
   "source": [
    "Vi ska analysera data som befinner sig i filen \"20150224_accgyro_cal.txt\" i samma katalog som vår skript.<br/>\n",
    "Filen innehåller 5942 rader med mätdata i tre kolumner:\n",
    "\n",
    "1. en tid (i sekunder) för mätningen\n",
    "1. den uppmätta accelerationen (i $m/s^2$) vid tidpunkten\n",
    "1. den uppmätta vinkelhastigheten (i $^o/s$)\n",
    "\n",
    "som vi läser in i tre python-listor `tid`, `acc` och `vel`.<br/> \n",
    "Sedan rättar vi till tidsaxeln genom att sätta första tidpunkten till `tid=0`"
   ]
  },
  {
   "cell_type": "code",
   "execution_count": null,
   "metadata": {},
   "outputs": [],
   "source": [
    "tid, acc, vel = np.loadtxt(\"20150224_accgyro_cal.txt\", unpack=True)\n",
    "tid = tid - min(tid)  # subtraherar min(tid) från alla tidpunkter"
   ]
  },
  {
   "attachments": {},
   "cell_type": "markdown",
   "metadata": {},
   "source": [
    "Hur ser datan ut då?<br/>\n",
    "Vi gör en snabb plot:"
   ]
  },
  {
   "cell_type": "code",
   "execution_count": null,
   "metadata": {},
   "outputs": [],
   "source": [
    "fig, ax = plt.subplots()\n",
    "ax.plot(tid, acc, label=\"acceleration\", color=\"red\", linestyle=\"\", marker=\"+\", markersize=5)\n",
    "ax.plot(tid, vel, label=\"vinkelhastighet\", color=\"blue\", linestyle=\"\", marker=\"+\", markersize=5)\n",
    "ax.legend()"
   ]
  },
  {
   "attachments": {},
   "cell_type": "markdown",
   "metadata": {},
   "source": [
    "Vinkelhastighetens amplitud avtar med tiden. Kan vi göra en kurvanpassning?\n",
    "\n",
    "Vi kan utgå från följande modellfunktion:<br/>\n",
    "$f(t) = A\\sin\\left(2\\pi B t + C\\right)\\cdot e^{-D t}$<br/>\n",
    "där $A$ är den ursprungliga amplituden vid $t=0$, $B$ är frekvensen, $C$ är en fasförskjutning och $D$ står för den expontiella dämpningen."
   ]
  },
  {
   "cell_type": "code",
   "execution_count": null,
   "metadata": {},
   "outputs": [],
   "source": [
    "def f(t, A, B, C, D):\n",
    "    return A*np.sin(2*np.pi*B*t + C)*np.exp(-D*t)"
   ]
  },
  {
   "attachments": {},
   "cell_type": "markdown",
   "metadata": {},
   "source": [
    "Hur ser denna funktion ut allmänt?\n",
    "\n",
    "Vi gör en graf för \n",
    "$f(t) = 100\\sin\\left(2\\pi t + 0\\right)\\cdot e^{-0.1 t}$"
   ]
  },
  {
   "cell_type": "code",
   "execution_count": null,
   "metadata": {},
   "outputs": [],
   "source": [
    "guessParams = [100, 1, 0, 0.1]\n",
    "\n",
    "\n",
    "fig, ax = plt.subplots()\n",
    "ax.plot(tid, f(tid, *guessParams), label=\"exponentiell dämpad oscillation\", \n",
    "        color=\"red\", linestyle=\"-\", marker=\"\", linewidth=2)\n",
    "ax.plot(tid, vel, label=\"vinkelhastighet\", color=\"blue\", linestyle=\"\", marker=\"+\", markersize=5, alpha=0.1)\n",
    "ax.legend()"
   ]
  },
  {
   "attachments": {},
   "cell_type": "markdown",
   "metadata": {},
   "source": [
    "Och nu låter vi Python hitta en kurvanpassning med `opt.curve_fit()`<br/>\n",
    "Kommer Python att lyckas?"
   ]
  },
  {
   "cell_type": "code",
   "execution_count": null,
   "metadata": {},
   "outputs": [],
   "source": [
    "optimParams, pcov = opt.curve_fit(f=f, xdata=tid, ydata=vel, p0=guessParams, method=\"trf\", verbose=2)"
   ]
  },
  {
   "attachments": {},
   "cell_type": "markdown",
   "metadata": {},
   "source": [
    "<div class=\"alert alert-block alert-warning\">\n",
    "Om det inte fungerade, så kan vi testa med andra startvärden för `A`, `B`, `C` och `D`<br/>\n",
    "\n",
    "Testa följande istället och byt ut<br/>\n",
    "`guessParams = [100, 1, 0, 0.1]` mot `guessParams = [100, 0.1, 0, 0.1]`<br/>\n",
    "i koden.\n",
    "</div>"
   ]
  },
  {
   "cell_type": "code",
   "execution_count": null,
   "metadata": {},
   "outputs": [],
   "source": [
    "print(\"anpassad: A={:8g}, B={:8g}, C={:8g}\".format(*optimParams))\n",
    "\n",
    "display(Markdown(r\"$f(t) = {:8g} \\sin\\left( 2\\pi\\cdot{:+8g} t {:+8g}^o \\right)$\".format(*optimParams)))"
   ]
  },
  {
   "cell_type": "code",
   "execution_count": null,
   "metadata": {},
   "outputs": [],
   "source": [
    "fig, ax = plt.subplots()\n",
    "ax.plot(tid, vel, label=\"vinkelhastighet\", color=\"blue\", linestyle=\"\", marker=\"+\", markersize=5)\n",
    "ax.plot(tid, f(tid, *optimParams), \"r-\", label = \"anpassad\", linewidth=2)\n",
    "ax.plot(tid, f(tid, *guessParams), \"c-\", label = \"vår gisnning\", linewidth=1, alpha=0.5)\n",
    "ax.legend()\n",
    "ax.set_xlabel(r\"tid $[s]$\")\n",
    "ax.set_ylabel(r\"vinkelhastighet $[^o/s]$\")"
   ]
  }
 ],
 "metadata": {
  "kernelspec": {
   "display_name": "Python 3",
   "language": "python",
   "name": "python3"
  },
  "language_info": {
   "codemirror_mode": {
    "name": "ipython",
    "version": 3
   },
   "file_extension": ".py",
   "mimetype": "text/x-python",
   "name": "python",
   "nbconvert_exporter": "python",
   "pygments_lexer": "ipython3",
   "version": "3.9.8"
  },
  "orig_nbformat": 4,
  "vscode": {
   "interpreter": {
    "hash": "c85a162d7e6feb9ce7a63b9e0bf7bb0701e25096002d986edf763ed39e4d2885"
   }
  }
 },
 "nbformat": 4,
 "nbformat_minor": 2
}
