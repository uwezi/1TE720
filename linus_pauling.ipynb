{
 "cells": [
  {
   "cell_type": "code",
   "execution_count": null,
   "metadata": {},
   "outputs": [],
   "source": [
    "#-----------------------------------------------------\n",
    "# några extrabibliotek med funktioner som behövs\n",
    "#\n",
    "import numpy as np\n",
    "from matplotlib import pyplot as plt\n",
    "%matplotlib inline\n",
    "plt.rcParams['figure.figsize'] = [12, 9]\n",
    "import ipywidgets as widgets\n",
    "from ipywidgets import interact"
   ]
  },
  {
   "cell_type": "code",
   "execution_count": null,
   "metadata": {},
   "outputs": [],
   "source": [
    "#-----------------------------------------------------\n",
    "# läs data från en textfil\n",
    "#\n",
    "data = np.loadtxt(\"linus_pauling.txt\",\n",
    "                  dtype={'names':('at_number','at_volume','name'),\n",
    "                         'formats':(float,float,'U5')})\n",
    "#\n",
    "#-----------------------------------------------------\n",
    "# skriv ut de första 5 block av data\n",
    "#\n",
    "print([data[i] for i in range(5)])"
   ]
  },
  {
   "cell_type": "code",
   "execution_count": null,
   "metadata": {},
   "outputs": [],
   "source": [
    "#-----------------------------------------------------\n",
    "# vi behöver en lista med tuples av \n",
    "# formen (atomic number, atomit volume)\n",
    "# där atomic number kommer från den första kolumnen (index=0)\n",
    "# och atomic volume kommer från den andra kolumnen (index=1)\n",
    "#\n",
    "# sedan skapar vi även en lista med bara namnen från kolumn med index=2 \n",
    "#\n",
    "atomic_volume = [(d[0], d[1]) for d in data]\n",
    "elements      = [d[2] for d in data]\n",
    "#\n",
    "# och vi testar om vi lyckades genom att skriva ut de första 5 elementen\n",
    "#\n",
    "print([atomic_volume[i] for i in range(5)])\n",
    "print([elements[i] for i in range(5)])"
   ]
  },
  {
   "cell_type": "code",
   "execution_count": null,
   "metadata": {},
   "outputs": [],
   "source": [
    "# vi skapar en till lista med tuples av formen\n",
    "# (10,10), (20,10), (30,10)\n",
    "# för att senare kunna rita en matris av kryss\n",
    "#\n",
    "gridpoints = []\n",
    "for x in range(0,101,10):\n",
    "    for y in range(0,81,10):\n",
    "        gridpoints.append((x,y))\n"
   ]
  },
  {
   "cell_type": "code",
   "execution_count": null,
   "metadata": {},
   "outputs": [],
   "source": [
    "\n",
    "print('''\n",
    "Originalgrafen publicerades av Linus Pauling. \n",
    "Edward Tufte analyserade i boken 'The Visual Display of Quantitative Information' \n",
    "hur man kan förbättra läsbarheten av datan i grafen.''')        \n"
   ]
  },
  {
   "cell_type": "code",
   "execution_count": null,
   "metadata": {},
   "outputs": [],
   "source": [
    "# Här börjar den interaktiva grafritningen. Först definieras en\n",
    "# rad parametrar med tillhörande reglage (slider, knappar,...)\n",
    "# genom vilka vi kan modifiera parametrarna.\n",
    "#\n",
    "\n",
    "font = {'family': 'serif',\n",
    "        'color':  'black',\n",
    "        'weight': 'normal',\n",
    "        'size': 16,\n",
    "        }\n",
    "\n",
    "@interact\n",
    "def _(marker=['o','.','None',',','_','|','p','x','+','*','D','d','H','h','<','>','^','v','1','2','3','4'],\n",
    "      markersize=widgets.IntSlider(value=10, min=1, max=100, continuous_update=False),\n",
    "      color=widgets.ColorPicker(),\n",
    "      linestyle = [\"-\",\"--\",\"-.\",\":\",\"\"],\n",
    "      showalkali=widgets.Checkbox(value=False, description=\"show alkali\"),\n",
    "      plotcrosses=widgets.Checkbox(value=True, description=\"show grid crosses\"),\n",
    "    ):\n",
    "    \n",
    "    plt.axes(xlim=[0,105], ylim=[0,85])\n",
    "    print(\"plt.axes( xlim=[0,105], ylim=[0,85] )\")\n",
    "\n",
    "    plt.plot(\n",
    "        *zip(*atomic_volume), \n",
    "        marker = marker, \n",
    "        markersize = markersize, \n",
    "        color = color, \n",
    "        linestyle = linestyle\n",
    "    )\n",
    "    print(f\"plt.plot( x, y, marker='{marker}', markersize={markersize}, color={color}, linestyle='{linestyle}' )\")\n",
    "\n",
    "    plt.xlabel('Atomic number', fontdict=font)\n",
    "    plt.ylabel('Atomic volume', fontdict=font)\n",
    "\n",
    "    if plotcrosses:\n",
    "        plt.scatter(\n",
    "            *zip(*gridpoints),\n",
    "            #[gridpoints[i][0] for i in range(len(gridpoints))], \n",
    "            #[gridpoints[i][1] for i in range(len(gridpoints))], \n",
    "            marker='+', \n",
    "            s=30, \n",
    "            c='black'\n",
    "        )\n",
    "        print(f\"plt.plot( x, y, marker='+', s=30, c='black' )\")\n",
    "   \n",
    "    if showalkali:\n",
    "        for idx,name in enumerate(elements):\n",
    "            if name in ['Li','Na','K','Rb','Cs','Fr']:\n",
    "                plt.text(\n",
    "                    atomic_volume[idx][0], atomic_volume[idx][1]+1,\n",
    "                    name,\n",
    "                    horizontalalignment='center',\n",
    "                    verticalalignment='bottom',\n",
    "                    fontdict=font\n",
    "                )\n",
    "        print(f\"plt.text( {atomic_volume[2][0]}, {atomic_volume[2][1]+1}, 'Li', horizontalalignment='center', verticalalignment='bottom', fontdict={font} )\")\n"
   ]
  }
 ],
 "metadata": {
  "kernelspec": {
   "display_name": "Python 3",
   "language": "python",
   "name": "python3"
  },
  "language_info": {
   "codemirror_mode": {
    "name": "ipython",
    "version": 3
   },
   "file_extension": ".py",
   "mimetype": "text/x-python",
   "name": "python",
   "nbconvert_exporter": "python",
   "pygments_lexer": "ipython3",
   "version": "3.9.8"
  },
  "orig_nbformat": 4,
  "vscode": {
   "interpreter": {
    "hash": "c85a162d7e6feb9ce7a63b9e0bf7bb0701e25096002d986edf763ed39e4d2885"
   }
  }
 },
 "nbformat": 4,
 "nbformat_minor": 2
}
