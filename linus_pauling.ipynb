{
 "cells": [
  {
   "attachments": {},
   "cell_type": "markdown",
   "metadata": {},
   "source": [
    "# Linus Paulings graf"
   ]
  },
  {
   "attachments": {},
   "cell_type": "markdown",
   "metadata": {},
   "source": [
    "Originalgrafen publicerades av nobelpristagaren Linus Pauling. \n",
    "\n",
    "Edward Tufte analyserade i boken 'The Visual Display of Quantitative Information' \n",
    "hur man kan förbättra läsbarheten av datan i grafen. Här kan ni själva testa hur de olika inställningar påverka hur lätt man kan läsa av informationen."
   ]
  },
  {
   "attachments": {},
   "cell_type": "markdown",
   "metadata": {},
   "source": [
    "Först ska vi ladda lite externa bibliotek"
   ]
  },
  {
   "cell_type": "code",
   "execution_count": 1,
   "metadata": {},
   "outputs": [],
   "source": [
    "import numpy as np\n",
    "from matplotlib import pyplot as plt\n",
    "%matplotlib inline\n",
    "plt.rcParams['figure.figsize'] = [12, 9]"
   ]
  },
  {
   "attachments": {},
   "cell_type": "markdown",
   "metadata": {},
   "source": [
    "Med hjälp av `ipywidgets` kan vi få interaktiva styrelement senare"
   ]
  },
  {
   "cell_type": "code",
   "execution_count": 2,
   "metadata": {},
   "outputs": [],
   "source": [
    "import ipywidgets as widgets\n",
    "from ipywidgets import interact"
   ]
  },
  {
   "attachments": {},
   "cell_type": "markdown",
   "metadata": {},
   "source": [
    "nu ska vi läsa in data från filen \"linus_pauling.txt\" som ligger i samma katalog\n",
    "\n",
    "=> öppna gärna filen och titta hur den ser ut"
   ]
  },
  {
   "cell_type": "code",
   "execution_count": 3,
   "metadata": {},
   "outputs": [],
   "source": [
    "data = np.loadtxt(\"linus_pauling.txt\",\n",
    "                  dtype={'names':('at_number','at_volume','name'),\n",
    "                         'formats':(float,float,'U5')})"
   ]
  },
  {
   "attachments": {},
   "cell_type": "markdown",
   "metadata": {},
   "source": [
    "för att se hur datan som importerades nu ser ut så skriver vi ut de första fem blocken"
   ]
  },
  {
   "cell_type": "code",
   "execution_count": 4,
   "metadata": {},
   "outputs": [
    {
     "name": "stdout",
     "output_type": "stream",
     "text": [
      "[(1., 12.312, 'H'), (2., nan, 'He'), (3., 12.634, 'Li'), (4., 4.814, 'Be'), (5., 4.365, 'B')]\n"
     ]
    }
   ],
   "source": [
    "print([data[i] for i in range(5)])"
   ]
  },
  {
   "attachments": {},
   "cell_type": "markdown",
   "metadata": {},
   "source": [
    "Nu formar vi om datan så att vi for en lista med tuples av \n",
    "formen `(atomic number, atomic volume)`\n",
    "\n",
    "där atomic number kommer från den första kolumnen (index=0)\n",
    "\n",
    "och atomic volume kommer från den andra kolumnen (index=1)"
   ]
  },
  {
   "cell_type": "code",
   "execution_count": 5,
   "metadata": {},
   "outputs": [],
   "source": [
    "atomic_volume = [(d[0], d[1]) for d in data]"
   ]
  },
  {
   "attachments": {},
   "cell_type": "markdown",
   "metadata": {},
   "source": [
    "och en lista med elementnamnen"
   ]
  },
  {
   "cell_type": "code",
   "execution_count": 6,
   "metadata": {},
   "outputs": [],
   "source": [
    "elements = [d[2] for d in data]"
   ]
  },
  {
   "attachments": {},
   "cell_type": "markdown",
   "metadata": {},
   "source": [
    "och vi testar om vi lyckades genom att skriva ut de första 5 elementen"
   ]
  },
  {
   "cell_type": "code",
   "execution_count": 7,
   "metadata": {},
   "outputs": [
    {
     "name": "stdout",
     "output_type": "stream",
     "text": [
      "[(1.0, 12.312), (2.0, nan), (3.0, 12.634), (4.0, 4.814), (5.0, 4.365)]\n",
      "['H', 'He', 'Li', 'Be', 'B']\n"
     ]
    }
   ],
   "source": [
    "print([atomic_volume[i] for i in range(5)])\n",
    "print([elements[i] for i in range(5)])"
   ]
  },
  {
   "attachments": {},
   "cell_type": "markdown",
   "metadata": {},
   "source": [
    "vi skapar en till lista med tuples av formen\n",
    "\n",
    "(10,10), (20,10), (30,10)\n",
    "\n",
    "för att senare kunna rita en matris av kryss"
   ]
  },
  {
   "cell_type": "code",
   "execution_count": 8,
   "metadata": {},
   "outputs": [],
   "source": [
    "gridpoints = []\n",
    "for x in range(0,101,10):\n",
    "    for y in range(0,81,10):\n",
    "        gridpoints.append((x,y))"
   ]
  },
  {
   "attachments": {},
   "cell_type": "markdown",
   "metadata": {},
   "source": [
    "I den följande _dictionary_ `font` skriver in vilken font vi ska använda till de olika textelementen i grafen, istället för att ange dessa om och om igen \"för hand\"."
   ]
  },
  {
   "cell_type": "code",
   "execution_count": 9,
   "metadata": {},
   "outputs": [],
   "source": [
    "font = {'family': 'serif',\n",
    "        'color':  'black',\n",
    "        'weight': 'normal',\n",
    "        'size': 16,\n",
    "        }"
   ]
  },
  {
   "attachments": {},
   "cell_type": "markdown",
   "metadata": {},
   "source": [
    "Med funktionerna från `ipywidgets` kan vi skapa kontroller som kryssrutor och sliders"
   ]
  },
  {
   "cell_type": "code",
   "execution_count": 10,
   "metadata": {},
   "outputs": [
    {
     "data": {
      "application/vnd.jupyter.widget-view+json": {
       "model_id": "48ff4ab13a554c699dcc2ac8967145e3",
       "version_major": 2,
       "version_minor": 0
      },
      "text/plain": [
       "interactive(children=(Dropdown(description='marker', options=('o', '.', 'None', ',', '_', '|', 'p', 'x', '+', …"
      ]
     },
     "metadata": {},
     "output_type": "display_data"
    }
   ],
   "source": [
    "@interact\n",
    "def _(marker=['o','.','None',',','_','|','p','x','+','*','D','d','H','h','<','>','^','v','1','2','3','4'],\n",
    "      markersize=widgets.IntSlider(value=10, min=1, max=100, continuous_update=False),\n",
    "      color=widgets.ColorPicker(),\n",
    "      linestyle = [\"-\",\"--\",\"-.\",\":\",\"\"],\n",
    "      axeslabels=widgets.Checkbox(value=False, description=\"visa text på axlarna\"),\n",
    "      showalkali=widgets.Checkbox(value=False, description=\"visa alkalimetallerna\"),\n",
    "      plotcrosses=widgets.Checkbox(value=True, description=\"visa beckgrundskryss\"),\n",
    "    ):\n",
    "    \n",
    "    plt.axes(xlim=[0,105], ylim=[0,85])\n",
    "    print(\"plt.axes( xlim=[0,105], ylim=[0,85] )\")\n",
    "\n",
    "    plt.plot(\n",
    "        *zip(*atomic_volume), \n",
    "        marker = marker, \n",
    "        markersize = markersize, \n",
    "        color = color, \n",
    "        linestyle = linestyle\n",
    "    )\n",
    "    print(f\"plt.plot( x, y, marker='{marker}', markersize={markersize}, color={color}, linestyle='{linestyle}' )\")\n",
    "\n",
    "    if axeslabels:\n",
    "        plt.xlabel('Atomic number', fontdict=font)\n",
    "        plt.ylabel('Atomic volume', fontdict=font)\n",
    "        print(\n",
    "            \"plt.xlabel('Atomic number', fontdict=font)\\n\"\n",
    "            \"plt.ylabel('Atomic volume', fontdict=font)\"\n",
    "        )\n",
    "\n",
    "    if plotcrosses:\n",
    "        plt.scatter(\n",
    "            *zip(*gridpoints),\n",
    "            marker='+', \n",
    "            s=30, \n",
    "            c='black'\n",
    "        )\n",
    "        print(f\"plt.plot( x, y, marker='+', s=30, c='black' )\")\n",
    "   \n",
    "    if showalkali:\n",
    "        for idx,name in enumerate(elements):\n",
    "            if name in ['Li','Na','K','Rb','Cs','Fr']:\n",
    "                plt.text(\n",
    "                    atomic_volume[idx][0], atomic_volume[idx][1]+1,\n",
    "                    name,\n",
    "                    horizontalalignment='center',\n",
    "                    verticalalignment='bottom',\n",
    "                    fontdict=font\n",
    "                )\n",
    "        print(f\"plt.text( {atomic_volume[2][0]}, {atomic_volume[2][1]+1}, 'Li', horizontalalignment='center', verticalalignment='bottom', fontdict={font} )\")\n"
   ]
  }
 ],
 "metadata": {
  "kernelspec": {
   "display_name": "Python 3",
   "language": "python",
   "name": "python3"
  },
  "language_info": {
   "codemirror_mode": {
    "name": "ipython",
    "version": 3
   },
   "file_extension": ".py",
   "mimetype": "text/x-python",
   "name": "python",
   "nbconvert_exporter": "python",
   "pygments_lexer": "ipython3",
   "version": "3.9.8"
  },
  "orig_nbformat": 4,
  "vscode": {
   "interpreter": {
    "hash": "c85a162d7e6feb9ce7a63b9e0bf7bb0701e25096002d986edf763ed39e4d2885"
   }
  }
 },
 "nbformat": 4,
 "nbformat_minor": 2
}
