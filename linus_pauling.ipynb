{
 "cells": [
  {
   "cell_type": "code",
   "execution_count": 1,
   "metadata": {},
   "outputs": [
    {
     "name": "stderr",
     "output_type": "stream",
     "text": [
      "C:\\Users\\uwezi\\AppData\\Local\\Temp\\ipykernel_10084\\4072734786.py:12: DeprecationWarning: `np.float` is a deprecated alias for the builtin `float`. To silence this warning, use `float` by itself. Doing this will not modify any behavior and is safe. If you specifically wanted the numpy scalar type, use `np.float64` here.\n",
      "Deprecated in NumPy 1.20; for more details and guidance: https://numpy.org/devdocs/release/1.20.0-notes.html#deprecations\n",
      "  'formats':(np.float,np.float,'U5')})\n"
     ]
    },
    {
     "name": "stdout",
     "output_type": "stream",
     "text": [
      "[(1., 12.312, 'H'), (2., nan, 'He'), (3., 12.634, 'Li'), (4., 4.814, 'Be'), (5., 4.365, 'B')]\n",
      "[(1.0, 12.312), (2.0, nan), (3.0, 12.634), (4.0, 4.814), (5.0, 4.365)]\n",
      "['H', 'He', 'Li', 'Be', 'B']\n"
     ]
    },
    {
     "ename": "NameError",
     "evalue": "name 'pretty_print' is not defined",
     "output_type": "error",
     "traceback": [
      "\u001b[1;31m---------------------------------------------------------------------------\u001b[0m",
      "\u001b[1;31mNameError\u001b[0m                                 Traceback (most recent call last)",
      "Cell \u001b[1;32mIn[1], line 44\u001b[0m\n\u001b[0;32m     42\u001b[0m         gridpoints\u001b[39m.\u001b[39mappend((x,y))\n\u001b[0;32m     43\u001b[0m \u001b[39m#\u001b[39;00m\n\u001b[1;32m---> 44\u001b[0m pretty_print(\u001b[39m'''\u001b[39m\n\u001b[0;32m     45\u001b[0m \u001b[39mOriginalgrafen publicerades av Linus Pauling. \u001b[39m\n\u001b[0;32m     46\u001b[0m \u001b[39mEdward Tufte analyserade i boken \u001b[39m\u001b[39m'\u001b[39m\u001b[39mThe Visual Display of Quantitative Information\u001b[39m\u001b[39m'\u001b[39m\u001b[39m \u001b[39m\n\u001b[0;32m     47\u001b[0m \u001b[39mhur man kan förbättra läsbarheten av datan i grafen.\u001b[39m\u001b[39m'''\u001b[39m)        \n\u001b[0;32m     48\u001b[0m \u001b[39m#\u001b[39;00m\n\u001b[0;32m     49\u001b[0m \u001b[39m# -----------------------------------------------------------------\u001b[39;00m\n\u001b[0;32m     50\u001b[0m \u001b[39m#\u001b[39;00m\n\u001b[1;32m   (...)\u001b[0m\n\u001b[0;32m     53\u001b[0m \u001b[39m# genom vilka vi kan modifiera parametrarna.\u001b[39;00m\n\u001b[0;32m     54\u001b[0m \u001b[39m#\u001b[39;00m\n\u001b[0;32m     55\u001b[0m \u001b[39m@interact\u001b[39m\n\u001b[0;32m     56\u001b[0m \u001b[39mdef\u001b[39;00m \u001b[39m_\u001b[39m(marker\u001b[39m=\u001b[39mselector([\u001b[39m'\u001b[39m\u001b[39mo\u001b[39m\u001b[39m'\u001b[39m,\u001b[39m'\u001b[39m\u001b[39m.\u001b[39m\u001b[39m'\u001b[39m,\u001b[39m'\u001b[39m\u001b[39mNone\u001b[39m\u001b[39m'\u001b[39m,\u001b[39m'\u001b[39m\u001b[39m,\u001b[39m\u001b[39m'\u001b[39m,\u001b[39m'\u001b[39m\u001b[39m_\u001b[39m\u001b[39m'\u001b[39m,\u001b[39m'\u001b[39m\u001b[39m|\u001b[39m\u001b[39m'\u001b[39m,\u001b[39m'\u001b[39m\u001b[39mp\u001b[39m\u001b[39m'\u001b[39m,\u001b[39m'\u001b[39m\u001b[39mx\u001b[39m\u001b[39m'\u001b[39m,\u001b[39m'\u001b[39m\u001b[39m+\u001b[39m\u001b[39m'\u001b[39m,\u001b[39m'\u001b[39m\u001b[39m*\u001b[39m\u001b[39m'\u001b[39m,\u001b[39m'\u001b[39m\u001b[39mD\u001b[39m\u001b[39m'\u001b[39m,\u001b[39m'\u001b[39m\u001b[39md\u001b[39m\u001b[39m'\u001b[39m,\u001b[39m'\u001b[39m\u001b[39mH\u001b[39m\u001b[39m'\u001b[39m,\u001b[39m'\u001b[39m\u001b[39mh\u001b[39m\u001b[39m'\u001b[39m,\u001b[39m'\u001b[39m\u001b[39m<\u001b[39m\u001b[39m'\u001b[39m,\u001b[39m'\u001b[39m\u001b[39m>\u001b[39m\u001b[39m'\u001b[39m,\u001b[39m'\u001b[39m\u001b[39m^\u001b[39m\u001b[39m'\u001b[39m,\u001b[39m'\u001b[39m\u001b[39mv\u001b[39m\u001b[39m'\u001b[39m,\u001b[39m'\u001b[39m\u001b[39m1\u001b[39m\u001b[39m'\u001b[39m,\u001b[39m'\u001b[39m\u001b[39m2\u001b[39m\u001b[39m'\u001b[39m,\u001b[39m'\u001b[39m\u001b[39m3\u001b[39m\u001b[39m'\u001b[39m,\u001b[39m'\u001b[39m\u001b[39m4\u001b[39m\u001b[39m'\u001b[39m]),\n\u001b[0;32m     57\u001b[0m       markersize\u001b[39m=\u001b[39mslider([\u001b[39m10\u001b[39m\u001b[39m*\u001b[39mi \u001b[39mfor\u001b[39;00m i \u001b[39min\u001b[39;00m \u001b[39mrange\u001b[39m(\u001b[39m1\u001b[39m,\u001b[39m10\u001b[39m)],default\u001b[39m=\u001b[39m\u001b[39m30\u001b[39m),\n\u001b[1;32m   (...)\u001b[0m\n\u001b[0;32m     61\u001b[0m       plotcrosses\u001b[39m=\u001b[39mselector([\u001b[39mFalse\u001b[39;00m,\u001b[39mTrue\u001b[39;00m], default\u001b[39m=\u001b[39m\u001b[39mTrue\u001b[39;00m),\n\u001b[0;32m     62\u001b[0m       auto_update\u001b[39m=\u001b[39m\u001b[39mTrue\u001b[39;00m):\n",
      "\u001b[1;31mNameError\u001b[0m: name 'pretty_print' is not defined"
     ]
    }
   ],
   "source": [
    "#\n",
    "#-----------------------------------------------------\n",
    "# några extrabibliotek med funktioner som behövs\n",
    "#\n",
    "import numpy as np\n",
    "#\n",
    "#-----------------------------------------------------\n",
    "# läs data från en textfil\n",
    "#\n",
    "data = np.loadtxt(\"linus_pauling.txt\",\n",
    "                  dtype={'names':('at_number','at_volume','name'),\n",
    "                         'formats':(np.float,np.float,'U5')})\n",
    "#\n",
    "#-----------------------------------------------------\n",
    "# skriv ut de första 5 block av data\n",
    "#\n",
    "print([data[i] for i in range(5)])\n",
    "#\n",
    "#-----------------------------------------------------\n",
    "# vi behöver en lista med tuples av \n",
    "# formen (atomic number, atomit volume)\n",
    "# där atomic number kommer från den första kolumnen (index=0)\n",
    "# och atomic volume kommer från den andra kolumnen (index=1)\n",
    "#\n",
    "# sedan skapar vi även en lista med bara namnen från kolumn med index=2 \n",
    "#\n",
    "atomic_volume = [(d[0], d[1]) for d in data]\n",
    "elements      = [d[2] for d in data]\n",
    "#\n",
    "# och vi testar om vi lyckades genom att skriva ut de första 5 elementen\n",
    "#\n",
    "print([atomic_volume[i] for i in range(5)])\n",
    "print([elements[i] for i in range(5)])\n",
    "#\n",
    "# vi skapar en till lista med tuples av formen\n",
    "# (10,10), (20,10), (30,10)\n",
    "# för att senare kunna rita en matris av kryss\n",
    "#\n",
    "gridpoints = []\n",
    "for x in range(10,101,10):\n",
    "    for y in range(10,81,10):\n",
    "        gridpoints.append((x,y))\n",
    "#\n",
    "print('''\n",
    "Originalgrafen publicerades av Linus Pauling. \n",
    "Edward Tufte analyserade i boken 'The Visual Display of Quantitative Information' \n",
    "hur man kan förbättra läsbarheten av datan i grafen.''')        \n",
    "#\n",
    "# -----------------------------------------------------------------\n",
    "#\n",
    "# Här börjar den interaktiva grafritningen. Först definieras en\n",
    "# rad parametrar med tillhörande reglage (slider, knappar,...)\n",
    "# genom vilka vi kan modifiera parametrarna.\n",
    "#\n",
    "@interact\n",
    "def _(marker=selector(['o','.','None',',','_','|','p','x','+','*','D','d','H','h','<','>','^','v','1','2','3','4']),\n",
    "      markersize=slider([10*i for i in range(1,10)],default=30),\n",
    "      markercolor=color_selector(widget='colorpicker', default=\"black\"),\n",
    "      showalkali=selector([False,True], default=False),\n",
    "      plotjoined=selector([False,True], default=False),\n",
    "      plotcrosses=selector([False,True], default=True),\n",
    "      auto_update=True):\n",
    "    \n",
    "    P  = list_plot(atomic_volume, \n",
    "                   marker=marker, \n",
    "                   size=markersize, \n",
    "                   color=markercolor, \n",
    "                   plotjoined=False)\n",
    "    if plotjoined:\n",
    "        P += list_plot(atomic_volume, \n",
    "                       plotjoined=True, \n",
    "                       thickness=.8, \n",
    "                       linestyle=\"--\" )\n",
    "    if plotcrosses:\n",
    "        P += list_plot(gridpoints, \n",
    "                       marker='+', \n",
    "                       size=30, \n",
    "                       color='black')\n",
    "    if showalkali:\n",
    "        for idx,name in enumerate(elements):\n",
    "            if name in ['Li','Na','K','Rb','Cs','Fr']:\n",
    "                P += text(name,\n",
    "                          (atomic_volume[idx][0]+1,atomic_volume[idx][1]+1),\n",
    "                          vertical_alignment='bottom',\n",
    "                          horizontal_alignment='left',\n",
    "                          fontsize='large')\n",
    "\n",
    "    P += text('Atomic number',\n",
    "              (60,-7),\n",
    "              color='black',\n",
    "              horizontal_alignment='center',\n",
    "              vertical_alignment='top')\n",
    "    \n",
    "    P += text('Atomic volume',\n",
    "              (-7,+50),\n",
    "              color='black',\n",
    "              rotation='vertical',\n",
    "              horizontal_alignment='right',\n",
    "              vertical_alignment='center')\n",
    "    \n",
    "    P.show(xmin=0, xmax=105, ymin=0, ymax=85)"
   ]
  }
 ],
 "metadata": {
  "kernelspec": {
   "display_name": "Python 3",
   "language": "python",
   "name": "python3"
  },
  "language_info": {
   "codemirror_mode": {
    "name": "ipython",
    "version": 3
   },
   "file_extension": ".py",
   "mimetype": "text/x-python",
   "name": "python",
   "nbconvert_exporter": "python",
   "pygments_lexer": "ipython3",
   "version": "3.9.8"
  },
  "orig_nbformat": 4,
  "vscode": {
   "interpreter": {
    "hash": "c85a162d7e6feb9ce7a63b9e0bf7bb0701e25096002d986edf763ed39e4d2885"
   }
  }
 },
 "nbformat": 4,
 "nbformat_minor": 2
}
