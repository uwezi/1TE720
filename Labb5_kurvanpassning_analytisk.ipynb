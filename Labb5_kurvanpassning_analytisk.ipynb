{
 "cells": [
  {
   "attachments": {},
   "cell_type": "markdown",
   "metadata": {},
   "source": [
    "# Kurvanpassning med Python - _för hand_"
   ]
  },
  {
   "attachments": {},
   "cell_type": "markdown",
   "metadata": {},
   "source": [
    "Först ska vi ladda lite externa bibliotek"
   ]
  },
  {
   "cell_type": "code",
   "execution_count": null,
   "metadata": {},
   "outputs": [],
   "source": [
    "from matplotlib import pyplot as plt\n",
    "import scipy.optimize as opt\n",
    "import numpy as np\n",
    "import math\n",
    "%matplotlib inline\n",
    "plt.rcParams['figure.figsize'] = [12, 9]"
   ]
  },
  {
   "attachments": {},
   "cell_type": "markdown",
   "metadata": {},
   "source": [
    "Sedan ange vi vår mätdata i källkoden i form av två listor: \n",
    "\n",
    "uppmätta spänningar $U_{meas}$ `Umeas` och uppmätta strömar $I_{meas}$ `Imeas`"
   ]
  },
  {
   "cell_type": "code",
   "execution_count": null,
   "metadata": {},
   "outputs": [],
   "source": [
    "Umeas = [ 0.0, 1.0, 2.0, 3.0, 4.0, 5.0, 6.0, 7.0, 8.0, 9.0, 10.0, -1.0, -2.0, -3.0, -4.0, -5.0, -6.0, -7.0, -8.0, -9.0, -10.0]\n",
    "Imeas = [ 0.0, 2.8, 5.8, 8.8, 11.7, 14.7, 17.7, 20.7, 23.7, 26.6, 29.6, -2.8, -5.8, -8.7, -11.7, -14.7, -17.7, -20.6, -23.6, -26.6, -29.6]"
   ]
  },
  {
   "attachments": {},
   "cell_type": "markdown",
   "metadata": {},
   "source": [
    "Och sedan ritar vi upp våra mätpunkter med matplotlib.pyplot.plot()"
   ]
  },
  {
   "cell_type": "code",
   "execution_count": null,
   "metadata": {},
   "outputs": [],
   "source": [
    "fig, ax = plt.subplots() \n",
    "ax.plot(Umeas, Imeas)"
   ]
  },
  {
   "attachments": {},
   "cell_type": "markdown",
   "metadata": {},
   "source": [
    "Vi kan anpassa utseendet av kurvan med olika parameter/attribut"
   ]
  },
  {
   "cell_type": "code",
   "execution_count": null,
   "metadata": {},
   "outputs": [],
   "source": [
    "fig, ax = plt.subplots()\n",
    "ax.plot(\n",
    "    Umeas, Imeas, \n",
    "    color=\"blue\", \n",
    "    linestyle=\":\", \n",
    "    linewidth=2, \n",
    "    marker=\"o\", \n",
    "    markeredgecolor=\"blue\", \n",
    "    markerfacecolor=\"red\", \n",
    "    markersize=15\n",
    ")"
   ]
  },
  {
   "cell_type": "code",
   "execution_count": null,
   "metadata": {},
   "outputs": [],
   "source": [
    "fig, ax = plt.subplots()\n",
    "ax.set(xlim=[-2,2], ylim=[-10,10])\n",
    "ax.plot(\n",
    "    Umeas, Imeas, \n",
    "    color=\"blue\", \n",
    "    linestyle=\":\", \n",
    "    linewidth=2, \n",
    "    marker=\"o\", \n",
    "    markeredgecolor=\"blue\", \n",
    "    markerfacecolor=\"red\", \n",
    "    markersize=15\n",
    ")"
   ]
  },
  {
   "attachments": {},
   "cell_type": "markdown",
   "metadata": {},
   "source": [
    "Varifrån kommer den dubbla linjen?\n",
    "\n",
    "Våra mätpunkter är osorterade - först kommer värden med positiva spänningar, sedan hoppar listan från den högsta positiva spänningen till den första negativa punkten.\n",
    "\n",
    "Och Python bara drar en linje från punkt till punkt här.\n",
    "\n",
    "Det är därför bättre att sortera mätpunkterna - inte för hand, fast med Python."
   ]
  },
  {
   "cell_type": "code",
   "execution_count": null,
   "metadata": {},
   "outputs": [],
   "source": [
    "data = list( zip( Umeas, Imeas ) )\n",
    "sortdata = sorted(data)\n",
    "\n",
    "x = [row[0] for row in sortdata]\n",
    "y = [row[1] for row in sortdata]\n",
    "\n",
    "print(sortdata)"
   ]
  },
  {
   "cell_type": "code",
   "execution_count": null,
   "metadata": {},
   "outputs": [],
   "source": [
    "print(x)"
   ]
  },
  {
   "cell_type": "code",
   "execution_count": null,
   "metadata": {},
   "outputs": [],
   "source": [
    "print(y)"
   ]
  },
  {
   "attachments": {},
   "cell_type": "markdown",
   "metadata": {},
   "source": [
    "I Matlab/Octave finns det en kortform som konfigurerar hur en kurva ska ritas. Färg, symbolerna och linjetypen anges i form av en textsträng. Pythons bibliotek Matplotlib stödjer exakt samma funtion. \n",
    "\n",
    "`\"b+:\"` betyder att kurvan ska ritas med kryss som symbol, i blå färg och med en punkterad linje."
   ]
  },
  {
   "cell_type": "code",
   "execution_count": null,
   "metadata": {},
   "outputs": [],
   "source": [
    "fig, ax = plt.subplots()\n",
    "ax.plot(x, y, \"b+:\")"
   ]
  },
  {
   "attachments": {},
   "cell_type": "markdown",
   "metadata": {},
   "source": [
    "Mätpunkterna kommer från ett experiment med en spänningskälla, ett motstånd och en amperemeter. \n",
    "\n",
    "Därför borde Ohms lag gäller $I = U/R$ och för att hantera systematiska fel lägger vi till en konstant $I_{offs}$.\n",
    "\n",
    "Låt oss se hur kurvan skulle se ut för $R = 300\\,\\text{Ω}$."
   ]
  },
  {
   "cell_type": "code",
   "execution_count": null,
   "metadata": {},
   "outputs": [],
   "source": [
    "def Iteor(U, R, Ioffs):\n",
    "    return U / R * 1000 + Ioffs\n",
    "\n",
    "calc_x = np.arange(-12, 12, 0.01)\n",
    "calc_y = Iteor(calc_x, 300, 0)"
   ]
  },
  {
   "attachments": {},
   "cell_type": "markdown",
   "metadata": {},
   "source": [
    "`calc_x = np.arange(-12, 12, 0.01)` skapar en lista med spänningsvärden mellan $-12\\,\\text{V}$ och $+12\\,\\text{V}$ med steg på $0.01\\,\\text{V}=10\\,\\text{mV}$\n",
    "\n",
    "`calc_y = Iteor(calc_x, 300, 0)` skapar en lista med ett funktionsvärde $f(x)=mx+b$ för alla värden från listan `calc_x`"
   ]
  },
  {
   "cell_type": "code",
   "execution_count": null,
   "metadata": {},
   "outputs": [],
   "source": [
    "fig, ax = plt.subplots()\n",
    "ax.plot(x, y, color=\"red\", linestyle=\":\", linewidth=2, marker=\"o\",\n",
    "         markeredgecolor=\"blue\", markerfacecolor=\"red\", markersize=15)\n",
    "ax.plot(calc_x, calc_y, \"g-\")"
   ]
  },
  {
   "attachments": {},
   "cell_type": "markdown",
   "metadata": {},
   "source": [
    "Lutningen verkar inte stämma helt. Den gröna kurvan från den teoretiska modellen är brantare än våra mätpunkter. Gå tillbaka och ändra värdet 300 i `calc_y = Iteor(calc_x, 300, 0)` som representerar resistansen $R$ i ohm."
   ]
  },
  {
   "attachments": {},
   "cell_type": "markdown",
   "metadata": {},
   "source": [
    "## Kurvanpassning\n",
    "\n",
    "I föreläsningen presenterades en analytisk lösning för en linjär kurvanpassning, dvs för uppgiften att hitta en modellfunktion $f(x)=mx + b$ som minimerar summan av alla kvadratiska avvikelser mellan mätvärden $y_i$ och de framräknade värden från modellfunktionen:\n",
    "\n",
    "$\\displaystyle S(m,b) = \\sum_i \\left(y_i - f(x_i)\\right)^2 = \\sum_i \\left(y_i - m x_i - b\\right)^2$\n",
    "\n",
    "De partiella derivatorna blir noll vid extrempunkterna av $S$ och ger oss sedan ett lösbart ekvationssystem för $m$ och $b$\n",
    "\n",
    "$\\displaystyle\\frac{\\partial S}{\\partial m} = -2\\sum_{i=1}^{n}x_i y_i  +2m\\sum_{i=1}^{n} x_i^2 + 2b\\sum_{i=1}^{n}x_i  =  -2\\alpha + 2m\\beta +2b\\gamma = 0$\n",
    "\n",
    "och\n",
    "\n",
    "$\\displaystyle\\frac{\\partial S}{\\partial b} = -2\\sum_{i=1}^{n}y_i  +2m\\sum_{i=1}^{n} x_i + 2 b \\sum_{i=1}^{n}1 = -2\\delta + 2m\\gamma + 2 b n = 0$\n",
    "\n",
    "med $\\displaystyle\\alpha = \\sum_{i=1}^{n}x_i y_i\\qquad$\n",
    "$\\displaystyle\\beta = \\sum_{i=1}^{n} x_i^2\\qquad$\n",
    "$\\displaystyle\\gamma = \\sum_{i=1}^{n}x_i\\qquad$\n",
    "$\\displaystyle\\delta = \\sum_{i=1}^{n}y_i$\n",
    "\n",
    "$\\displaystyle m = \\frac{\\alpha - \\frac{\\gamma\\delta}{n}}{\\beta-\\frac{\\gamma^2}{n}}$\n",
    "\n",
    "$\\displaystyle b = \\frac{\\delta - m\\gamma}{n}$"
   ]
  },
  {
   "attachments": {},
   "cell_type": "markdown",
   "metadata": {},
   "source": [
    "Summorna kan vi enkelt låta Python räkna ut:"
   ]
  },
  {
   "cell_type": "code",
   "execution_count": null,
   "metadata": {},
   "outputs": [],
   "source": [
    "alpha = 0 # = sum x_i y_i\n",
    "beta  = 0 # = sum x_i^2\n",
    "gamma = 0 # = sum x_i\n",
    "delta = 0 # = sum y_i\n",
    "n = len(x)"
   ]
  },
  {
   "cell_type": "code",
   "execution_count": null,
   "metadata": {},
   "outputs": [],
   "source": [
    "for i in range(len(x)):\n",
    "    alpha = alpha + x[i]*y[i]\n",
    "    beta  = beta + x[i]*x[i]\n",
    "    gamma = gamma + x[i]\n",
    "    delta = delta + y[i]"
   ]
  },
  {
   "attachments": {},
   "cell_type": "markdown",
   "metadata": {},
   "source": [
    "Och så kan vi räkna ut $m$ och $b$"
   ]
  },
  {
   "cell_type": "code",
   "execution_count": null,
   "metadata": {},
   "outputs": [],
   "source": [
    "m = (alpha - gamma*delta/n)/(beta-gamma*gamma/n)\n",
    "\n",
    "b = (delta - gamma * m)/n\n",
    "\n",
    "print(\"f(x) = {:+f}x {:+f}\".format(m,b))"
   ]
  },
  {
   "attachments": {},
   "cell_type": "markdown",
   "metadata": {},
   "source": [
    "Och med dessa optimala $m$ och $b$ räkna vi på nytt ut den teoretiska kurvan från vår modellfunktion och rita upp tillsammans med våra mätpunkter"
   ]
  },
  {
   "cell_type": "code",
   "execution_count": null,
   "metadata": {},
   "outputs": [],
   "source": [
    "calc_y = Iteor(calc_x, 1000/m, b)\n",
    "\n",
    "fig, ax = plt.subplots()\n",
    "ax.plot(x, y, color=\"red\", linestyle=\":\", linewidth=2, marker=\"o\",\n",
    "         markeredgecolor=\"blue\", markerfacecolor=\"red\", markersize=15)\n",
    "ax.plot(calc_x, calc_y, \"b-\")"
   ]
  }
 ],
 "metadata": {
  "kernelspec": {
   "display_name": "Python 3",
   "language": "python",
   "name": "python3"
  },
  "language_info": {
   "codemirror_mode": {
    "name": "ipython",
    "version": 3
   },
   "file_extension": ".py",
   "mimetype": "text/x-python",
   "name": "python",
   "nbconvert_exporter": "python",
   "pygments_lexer": "ipython3",
   "version": "3.9.8"
  },
  "orig_nbformat": 4,
  "vscode": {
   "interpreter": {
    "hash": "c85a162d7e6feb9ce7a63b9e0bf7bb0701e25096002d986edf763ed39e4d2885"
   }
  }
 },
 "nbformat": 4,
 "nbformat_minor": 2
}
