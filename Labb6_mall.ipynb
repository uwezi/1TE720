{
 "cells": [
  {
   "cell_type": "code",
   "execution_count": null,
   "metadata": {},
   "outputs": [],
   "source": [
    "from matplotlib import pyplot as plt\n",
    "%matplotlib inline\n",
    "plt.rcParams['figure.figsize'] = [12, 9]\n",
    "import scipy.optimize as opt\n",
    "import numpy as np\n",
    "import math\n",
    "from io import StringIO"
   ]
  },
  {
   "cell_type": "code",
   "execution_count": null,
   "metadata": {},
   "outputs": [],
   "source": [
    "def modellfunktion(t, U_0, tau):\n",
    "    return U_0 * np.exp(-t / tau)"
   ]
  },
  {
   "cell_type": "code",
   "execution_count": null,
   "metadata": {},
   "outputs": [],
   "source": [
    "datafile = StringIO(\\\n",
    "'''\n",
    "# 100k 100n\n",
    "# time [s]   voltage [V]\n",
    "0.000   4.976\n",
    "0.002   3.969\n",
    "0.004   3.177\n",
    "0.006   2.546\n",
    "0.008   2.048\n",
    "0.010   1.647\n",
    "0.012   1.329\n",
    "0.014   1.061\n",
    "0.016   0.860\n",
    "0.019   0.694\n",
    "0.021   0.552\n",
    "0.023   0.445\n",
    "0.025   0.357\n",
    "0.027   0.288\n",
    "0.029   0.230\n",
    "0.031   0.186\n",
    "0.034   0.147\n",
    "0.036   0.117\n",
    "0.038   0.093\n",
    "0.040   0.073\n",
    "0.042   0.059\n",
    "0.045   0.044\n",
    "0.047   0.034\n",
    "0.049   0.024\n",
    "0.051   0.024\n",
    "0.053   0.015\n",
    "0.055   0.010\n",
    "0.057   0.005\n",
    "0.059   0.005\n",
    "0.061   0.000\n",
    "''')"
   ]
  },
  {
   "cell_type": "code",
   "execution_count": null,
   "metadata": {},
   "outputs": [],
   "source": [
    "t, U = np.loadtxt(datafile, unpack=True)\n",
    "plt.plot(t,U,\"r+\")\n",
    "plt.show()"
   ]
  },
  {
   "cell_type": "code",
   "execution_count": null,
   "metadata": {},
   "outputs": [],
   "source": [
    "plt.semilogy(t,U,\"r+\")\n",
    "plt.show()"
   ]
  },
  {
   "cell_type": "code",
   "execution_count": null,
   "metadata": {},
   "outputs": [],
   "source": [
    "gissning = [5,1e-4]\n",
    "optimParams, pcov = opt.curve_fit(modellfunktion, t, U, p0=gissning, method=\"trf\", verbose=2)\n",
    "print(\"U_0 = {}    tau = {}\".format(optimParams[0],optimParams[1]))"
   ]
  },
  {
   "cell_type": "code",
   "execution_count": null,
   "metadata": {},
   "outputs": [],
   "source": [
    "xvals = np.arange(min(t),1.2*max(t),max(t)/1200)\n",
    "yvals = modellfunktion(xvals, *optimParams)\n",
    "\n",
    "fig, ax = plt.subplots(ncols=2)\n",
    "ax[0].plot(t, U, \"r+\", label=\"data\")\n",
    "ax[0].plot(xvals, yvals, \"b-\", label=\"anpassad\")\n",
    "ax[0].legend()\n",
    "ax[0].set_xlabel(r\"tid $t\\,\\,\\,[s]$\")\n",
    "ax[0].set_ylabel(r\"spänning över kondensatorn $U_C\\,\\,\\,[V]$\")\n",
    "ax[1].semilogy(t, U, \"r+\", label=\"data\")\n",
    "ax[1].semilogy(xvals, yvals, \"b-\", label=\"anpassad\")\n",
    "ax[1].legend()\n",
    "ax[1].set_xlabel(r\"tid $t\\,\\,\\,[s]$\")\n",
    "ax[1].set_ylabel(r\"spänning över kondensatorn $U_C\\,\\,\\,[V]$\")"
   ]
  }
 ],
 "metadata": {
  "kernelspec": {
   "display_name": "Python 3",
   "language": "python",
   "name": "python3"
  },
  "language_info": {
   "codemirror_mode": {
    "name": "ipython",
    "version": 3
   },
   "file_extension": ".py",
   "mimetype": "text/x-python",
   "name": "python",
   "nbconvert_exporter": "python",
   "pygments_lexer": "ipython3",
   "version": "3.9.8"
  },
  "orig_nbformat": 4,
  "vscode": {
   "interpreter": {
    "hash": "c85a162d7e6feb9ce7a63b9e0bf7bb0701e25096002d986edf763ed39e4d2885"
   }
  }
 },
 "nbformat": 4,
 "nbformat_minor": 2
}
